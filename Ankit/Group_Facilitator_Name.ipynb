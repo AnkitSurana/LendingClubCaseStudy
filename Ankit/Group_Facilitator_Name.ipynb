{
 "cells": [
  {
   "cell_type": "markdown",
   "id": "c35df81f-b1a4-4d36-89e1-c57e3756dd35",
   "metadata": {},
   "source": [
    "# Lending Club Case Study\n",
    "## by Ankit Kumar Surana\n",
    "\n",
    "## Introduction\n",
    "As a worker of a consumer finance company that specialises in lending different kinds of loans to urban clients, part of my job is to facilitate loan approval decision-making by evaluating application profiles and identifying hazards related to loan payback potential. To do this, I would need to analyze data in \"loan.csv\", which contains historical information about past loan applicants with default status information. This means finding patterns that indicate the applicant is likely to default, which in turn enables taking further action, such as denying a loan, adjusting the loan amount, or applying higher interest rates to risky applicants.\n",
    "\n",
    "Through the analysis, I aim to understand consumer and loan attributes affecting the customer's tendency to default, and also to find the driving factors, or variables, behind loan defaults. The company can then use such knowledge to improve its portfolio and risk assessment strategies.\n",
    "\n",
    "## Preliminary Wrangling"
   ]
  },
  {
   "cell_type": "code",
   "execution_count": 1,
   "id": "b0eea562-d6df-4806-98fc-6c389cdfe7c5",
   "metadata": {},
   "outputs": [],
   "source": [
    "# import all packages and set plots to be embedded inline\n",
    "import numpy as np\n",
    "import pandas as pd\n",
    "import matplotlib.pyplot as plt\n",
    "import seaborn as sns\n",
    "import regex as re\n",
    "import warnings\n",
    "\n",
    "warnings.filterwarnings('ignore')\n",
    "\n",
    "%matplotlib inline\n",
    "\n",
    "pd.set_option('max_colwidth', None)\n",
    "pd.set_option('display.max_rows', None)\n",
    "pd.set_option('display.max_columns', None)\n"
   ]
  },
  {
   "cell_type": "markdown",
   "id": "32839add-7c5e-4d39-8bb7-66c569dc7cfa",
   "metadata": {},
   "source": [
    "# Gathering"
   ]
  },
  {
   "cell_type": "code",
   "execution_count": 2,
   "id": "df8888e7-cfce-4e61-b49e-5ad9e22f0d22",
   "metadata": {},
   "outputs": [],
   "source": [
    "df = pd.read_csv('loan.csv')"
   ]
  },
  {
   "cell_type": "code",
   "execution_count": 3,
   "id": "19a4afd0-3161-4e48-9679-748d4ec92c1b",
   "metadata": {},
   "outputs": [
    {
     "name": "stdout",
     "output_type": "stream",
     "text": [
      "(39717, 111)\n"
     ]
    }
   ],
   "source": [
    "# high-level overview of data shape and composition\n",
    "print(df.shape)"
   ]
  },
  {
   "cell_type": "code",
   "execution_count": 4,
   "id": "e1fbe845-a8ef-477f-8df0-e958b087bb3d",
   "metadata": {},
   "outputs": [
    {
     "name": "stdout",
     "output_type": "stream",
     "text": [
      "<class 'pandas.core.frame.DataFrame'>\n",
      "RangeIndex: 39717 entries, 0 to 39716\n",
      "Columns: 111 entries, id to total_il_high_credit_limit\n",
      "dtypes: float64(74), int64(13), object(24)\n",
      "memory usage: 33.6+ MB\n",
      "None\n"
     ]
    }
   ],
   "source": [
    "print(df.info())"
   ]
  },
  {
   "cell_type": "code",
   "execution_count": 5,
   "id": "6ff426d3-ffe3-472f-ad83-d1bb45487c38",
   "metadata": {},
   "outputs": [
    {
     "data": {
      "text/html": [
       "<div>\n",
       "<style scoped>\n",
       "    .dataframe tbody tr th:only-of-type {\n",
       "        vertical-align: middle;\n",
       "    }\n",
       "\n",
       "    .dataframe tbody tr th {\n",
       "        vertical-align: top;\n",
       "    }\n",
       "\n",
       "    .dataframe thead th {\n",
       "        text-align: right;\n",
       "    }\n",
       "</style>\n",
       "<table border=\"1\" class=\"dataframe\">\n",
       "  <thead>\n",
       "    <tr style=\"text-align: right;\">\n",
       "      <th></th>\n",
       "      <th>id</th>\n",
       "      <th>member_id</th>\n",
       "      <th>loan_amnt</th>\n",
       "      <th>funded_amnt</th>\n",
       "      <th>funded_amnt_inv</th>\n",
       "      <th>term</th>\n",
       "      <th>int_rate</th>\n",
       "      <th>installment</th>\n",
       "      <th>grade</th>\n",
       "      <th>sub_grade</th>\n",
       "      <th>emp_title</th>\n",
       "      <th>emp_length</th>\n",
       "      <th>home_ownership</th>\n",
       "      <th>annual_inc</th>\n",
       "      <th>verification_status</th>\n",
       "      <th>issue_d</th>\n",
       "      <th>loan_status</th>\n",
       "      <th>pymnt_plan</th>\n",
       "      <th>url</th>\n",
       "      <th>desc</th>\n",
       "      <th>purpose</th>\n",
       "      <th>title</th>\n",
       "      <th>zip_code</th>\n",
       "      <th>addr_state</th>\n",
       "      <th>dti</th>\n",
       "      <th>delinq_2yrs</th>\n",
       "      <th>earliest_cr_line</th>\n",
       "      <th>inq_last_6mths</th>\n",
       "      <th>mths_since_last_delinq</th>\n",
       "      <th>mths_since_last_record</th>\n",
       "      <th>open_acc</th>\n",
       "      <th>pub_rec</th>\n",
       "      <th>revol_bal</th>\n",
       "      <th>revol_util</th>\n",
       "      <th>total_acc</th>\n",
       "      <th>initial_list_status</th>\n",
       "      <th>out_prncp</th>\n",
       "      <th>out_prncp_inv</th>\n",
       "      <th>total_pymnt</th>\n",
       "      <th>total_pymnt_inv</th>\n",
       "      <th>total_rec_prncp</th>\n",
       "      <th>total_rec_int</th>\n",
       "      <th>total_rec_late_fee</th>\n",
       "      <th>recoveries</th>\n",
       "      <th>collection_recovery_fee</th>\n",
       "      <th>last_pymnt_d</th>\n",
       "      <th>last_pymnt_amnt</th>\n",
       "      <th>next_pymnt_d</th>\n",
       "      <th>last_credit_pull_d</th>\n",
       "      <th>collections_12_mths_ex_med</th>\n",
       "      <th>mths_since_last_major_derog</th>\n",
       "      <th>policy_code</th>\n",
       "      <th>application_type</th>\n",
       "      <th>annual_inc_joint</th>\n",
       "      <th>dti_joint</th>\n",
       "      <th>verification_status_joint</th>\n",
       "      <th>acc_now_delinq</th>\n",
       "      <th>tot_coll_amt</th>\n",
       "      <th>tot_cur_bal</th>\n",
       "      <th>open_acc_6m</th>\n",
       "      <th>open_il_6m</th>\n",
       "      <th>open_il_12m</th>\n",
       "      <th>open_il_24m</th>\n",
       "      <th>mths_since_rcnt_il</th>\n",
       "      <th>total_bal_il</th>\n",
       "      <th>il_util</th>\n",
       "      <th>open_rv_12m</th>\n",
       "      <th>open_rv_24m</th>\n",
       "      <th>max_bal_bc</th>\n",
       "      <th>all_util</th>\n",
       "      <th>total_rev_hi_lim</th>\n",
       "      <th>inq_fi</th>\n",
       "      <th>total_cu_tl</th>\n",
       "      <th>inq_last_12m</th>\n",
       "      <th>acc_open_past_24mths</th>\n",
       "      <th>avg_cur_bal</th>\n",
       "      <th>bc_open_to_buy</th>\n",
       "      <th>bc_util</th>\n",
       "      <th>chargeoff_within_12_mths</th>\n",
       "      <th>delinq_amnt</th>\n",
       "      <th>mo_sin_old_il_acct</th>\n",
       "      <th>mo_sin_old_rev_tl_op</th>\n",
       "      <th>mo_sin_rcnt_rev_tl_op</th>\n",
       "      <th>mo_sin_rcnt_tl</th>\n",
       "      <th>mort_acc</th>\n",
       "      <th>mths_since_recent_bc</th>\n",
       "      <th>mths_since_recent_bc_dlq</th>\n",
       "      <th>mths_since_recent_inq</th>\n",
       "      <th>mths_since_recent_revol_delinq</th>\n",
       "      <th>num_accts_ever_120_pd</th>\n",
       "      <th>num_actv_bc_tl</th>\n",
       "      <th>num_actv_rev_tl</th>\n",
       "      <th>num_bc_sats</th>\n",
       "      <th>num_bc_tl</th>\n",
       "      <th>num_il_tl</th>\n",
       "      <th>num_op_rev_tl</th>\n",
       "      <th>num_rev_accts</th>\n",
       "      <th>num_rev_tl_bal_gt_0</th>\n",
       "      <th>num_sats</th>\n",
       "      <th>num_tl_120dpd_2m</th>\n",
       "      <th>num_tl_30dpd</th>\n",
       "      <th>num_tl_90g_dpd_24m</th>\n",
       "      <th>num_tl_op_past_12m</th>\n",
       "      <th>pct_tl_nvr_dlq</th>\n",
       "      <th>percent_bc_gt_75</th>\n",
       "      <th>pub_rec_bankruptcies</th>\n",
       "      <th>tax_liens</th>\n",
       "      <th>tot_hi_cred_lim</th>\n",
       "      <th>total_bal_ex_mort</th>\n",
       "      <th>total_bc_limit</th>\n",
       "      <th>total_il_high_credit_limit</th>\n",
       "    </tr>\n",
       "  </thead>\n",
       "  <tbody>\n",
       "    <tr>\n",
       "      <th>0</th>\n",
       "      <td>1077501</td>\n",
       "      <td>1296599</td>\n",
       "      <td>5000</td>\n",
       "      <td>5000</td>\n",
       "      <td>4975.0</td>\n",
       "      <td>36 months</td>\n",
       "      <td>10.65%</td>\n",
       "      <td>162.87</td>\n",
       "      <td>B</td>\n",
       "      <td>B2</td>\n",
       "      <td>NaN</td>\n",
       "      <td>10+ years</td>\n",
       "      <td>RENT</td>\n",
       "      <td>24000.0</td>\n",
       "      <td>Verified</td>\n",
       "      <td>Dec-11</td>\n",
       "      <td>Fully Paid</td>\n",
       "      <td>n</td>\n",
       "      <td>https://lendingclub.com/browse/loanDetail.action?loan_id=1077501</td>\n",
       "      <td>Borrower added on 12/22/11 &gt; I need to upgrade my business technologies.&lt;br&gt;</td>\n",
       "      <td>credit_card</td>\n",
       "      <td>Computer</td>\n",
       "      <td>860xx</td>\n",
       "      <td>AZ</td>\n",
       "      <td>27.65</td>\n",
       "      <td>0</td>\n",
       "      <td>Jan-85</td>\n",
       "      <td>1</td>\n",
       "      <td>NaN</td>\n",
       "      <td>NaN</td>\n",
       "      <td>3</td>\n",
       "      <td>0</td>\n",
       "      <td>13648</td>\n",
       "      <td>83.70%</td>\n",
       "      <td>9</td>\n",
       "      <td>f</td>\n",
       "      <td>0.00</td>\n",
       "      <td>0.00</td>\n",
       "      <td>5863.155187</td>\n",
       "      <td>5833.84</td>\n",
       "      <td>5000.00</td>\n",
       "      <td>863.16</td>\n",
       "      <td>0.00</td>\n",
       "      <td>0.00</td>\n",
       "      <td>0.00</td>\n",
       "      <td>Jan-15</td>\n",
       "      <td>171.62</td>\n",
       "      <td>NaN</td>\n",
       "      <td>May-16</td>\n",
       "      <td>0.0</td>\n",
       "      <td>NaN</td>\n",
       "      <td>1</td>\n",
       "      <td>INDIVIDUAL</td>\n",
       "      <td>NaN</td>\n",
       "      <td>NaN</td>\n",
       "      <td>NaN</td>\n",
       "      <td>0</td>\n",
       "      <td>NaN</td>\n",
       "      <td>NaN</td>\n",
       "      <td>NaN</td>\n",
       "      <td>NaN</td>\n",
       "      <td>NaN</td>\n",
       "      <td>NaN</td>\n",
       "      <td>NaN</td>\n",
       "      <td>NaN</td>\n",
       "      <td>NaN</td>\n",
       "      <td>NaN</td>\n",
       "      <td>NaN</td>\n",
       "      <td>NaN</td>\n",
       "      <td>NaN</td>\n",
       "      <td>NaN</td>\n",
       "      <td>NaN</td>\n",
       "      <td>NaN</td>\n",
       "      <td>NaN</td>\n",
       "      <td>NaN</td>\n",
       "      <td>NaN</td>\n",
       "      <td>NaN</td>\n",
       "      <td>NaN</td>\n",
       "      <td>0.0</td>\n",
       "      <td>0</td>\n",
       "      <td>NaN</td>\n",
       "      <td>NaN</td>\n",
       "      <td>NaN</td>\n",
       "      <td>NaN</td>\n",
       "      <td>NaN</td>\n",
       "      <td>NaN</td>\n",
       "      <td>NaN</td>\n",
       "      <td>NaN</td>\n",
       "      <td>NaN</td>\n",
       "      <td>NaN</td>\n",
       "      <td>NaN</td>\n",
       "      <td>NaN</td>\n",
       "      <td>NaN</td>\n",
       "      <td>NaN</td>\n",
       "      <td>NaN</td>\n",
       "      <td>NaN</td>\n",
       "      <td>NaN</td>\n",
       "      <td>NaN</td>\n",
       "      <td>NaN</td>\n",
       "      <td>NaN</td>\n",
       "      <td>NaN</td>\n",
       "      <td>NaN</td>\n",
       "      <td>NaN</td>\n",
       "      <td>NaN</td>\n",
       "      <td>NaN</td>\n",
       "      <td>0.0</td>\n",
       "      <td>0.0</td>\n",
       "      <td>NaN</td>\n",
       "      <td>NaN</td>\n",
       "      <td>NaN</td>\n",
       "      <td>NaN</td>\n",
       "    </tr>\n",
       "    <tr>\n",
       "      <th>1</th>\n",
       "      <td>1077430</td>\n",
       "      <td>1314167</td>\n",
       "      <td>2500</td>\n",
       "      <td>2500</td>\n",
       "      <td>2500.0</td>\n",
       "      <td>60 months</td>\n",
       "      <td>15.27%</td>\n",
       "      <td>59.83</td>\n",
       "      <td>C</td>\n",
       "      <td>C4</td>\n",
       "      <td>Ryder</td>\n",
       "      <td>&lt; 1 year</td>\n",
       "      <td>RENT</td>\n",
       "      <td>30000.0</td>\n",
       "      <td>Source Verified</td>\n",
       "      <td>Dec-11</td>\n",
       "      <td>Charged Off</td>\n",
       "      <td>n</td>\n",
       "      <td>https://lendingclub.com/browse/loanDetail.action?loan_id=1077430</td>\n",
       "      <td>Borrower added on 12/22/11 &gt; I plan to use this money to finance the motorcycle i am looking at. I plan to have it paid off as soon as possible/when i sell my old bike. I only need this money because the deal im looking at is to good to pass up.&lt;br&gt;&lt;br&gt;  Borrower added on 12/22/11 &gt; I plan to use this money to finance the motorcycle i am looking at. I plan to have it paid off as soon as possible/when i sell my old bike.I only need this money because the deal im looking at is to good to pass up. I have finished college with an associates degree in business and its takingmeplaces&lt;br&gt;</td>\n",
       "      <td>car</td>\n",
       "      <td>bike</td>\n",
       "      <td>309xx</td>\n",
       "      <td>GA</td>\n",
       "      <td>1.00</td>\n",
       "      <td>0</td>\n",
       "      <td>Apr-99</td>\n",
       "      <td>5</td>\n",
       "      <td>NaN</td>\n",
       "      <td>NaN</td>\n",
       "      <td>3</td>\n",
       "      <td>0</td>\n",
       "      <td>1687</td>\n",
       "      <td>9.40%</td>\n",
       "      <td>4</td>\n",
       "      <td>f</td>\n",
       "      <td>0.00</td>\n",
       "      <td>0.00</td>\n",
       "      <td>1008.710000</td>\n",
       "      <td>1008.71</td>\n",
       "      <td>456.46</td>\n",
       "      <td>435.17</td>\n",
       "      <td>0.00</td>\n",
       "      <td>117.08</td>\n",
       "      <td>1.11</td>\n",
       "      <td>Apr-13</td>\n",
       "      <td>119.66</td>\n",
       "      <td>NaN</td>\n",
       "      <td>Sep-13</td>\n",
       "      <td>0.0</td>\n",
       "      <td>NaN</td>\n",
       "      <td>1</td>\n",
       "      <td>INDIVIDUAL</td>\n",
       "      <td>NaN</td>\n",
       "      <td>NaN</td>\n",
       "      <td>NaN</td>\n",
       "      <td>0</td>\n",
       "      <td>NaN</td>\n",
       "      <td>NaN</td>\n",
       "      <td>NaN</td>\n",
       "      <td>NaN</td>\n",
       "      <td>NaN</td>\n",
       "      <td>NaN</td>\n",
       "      <td>NaN</td>\n",
       "      <td>NaN</td>\n",
       "      <td>NaN</td>\n",
       "      <td>NaN</td>\n",
       "      <td>NaN</td>\n",
       "      <td>NaN</td>\n",
       "      <td>NaN</td>\n",
       "      <td>NaN</td>\n",
       "      <td>NaN</td>\n",
       "      <td>NaN</td>\n",
       "      <td>NaN</td>\n",
       "      <td>NaN</td>\n",
       "      <td>NaN</td>\n",
       "      <td>NaN</td>\n",
       "      <td>NaN</td>\n",
       "      <td>0.0</td>\n",
       "      <td>0</td>\n",
       "      <td>NaN</td>\n",
       "      <td>NaN</td>\n",
       "      <td>NaN</td>\n",
       "      <td>NaN</td>\n",
       "      <td>NaN</td>\n",
       "      <td>NaN</td>\n",
       "      <td>NaN</td>\n",
       "      <td>NaN</td>\n",
       "      <td>NaN</td>\n",
       "      <td>NaN</td>\n",
       "      <td>NaN</td>\n",
       "      <td>NaN</td>\n",
       "      <td>NaN</td>\n",
       "      <td>NaN</td>\n",
       "      <td>NaN</td>\n",
       "      <td>NaN</td>\n",
       "      <td>NaN</td>\n",
       "      <td>NaN</td>\n",
       "      <td>NaN</td>\n",
       "      <td>NaN</td>\n",
       "      <td>NaN</td>\n",
       "      <td>NaN</td>\n",
       "      <td>NaN</td>\n",
       "      <td>NaN</td>\n",
       "      <td>NaN</td>\n",
       "      <td>0.0</td>\n",
       "      <td>0.0</td>\n",
       "      <td>NaN</td>\n",
       "      <td>NaN</td>\n",
       "      <td>NaN</td>\n",
       "      <td>NaN</td>\n",
       "    </tr>\n",
       "    <tr>\n",
       "      <th>2</th>\n",
       "      <td>1077175</td>\n",
       "      <td>1313524</td>\n",
       "      <td>2400</td>\n",
       "      <td>2400</td>\n",
       "      <td>2400.0</td>\n",
       "      <td>36 months</td>\n",
       "      <td>15.96%</td>\n",
       "      <td>84.33</td>\n",
       "      <td>C</td>\n",
       "      <td>C5</td>\n",
       "      <td>NaN</td>\n",
       "      <td>10+ years</td>\n",
       "      <td>RENT</td>\n",
       "      <td>12252.0</td>\n",
       "      <td>Not Verified</td>\n",
       "      <td>Dec-11</td>\n",
       "      <td>Fully Paid</td>\n",
       "      <td>n</td>\n",
       "      <td>https://lendingclub.com/browse/loanDetail.action?loan_id=1077175</td>\n",
       "      <td>NaN</td>\n",
       "      <td>small_business</td>\n",
       "      <td>real estate business</td>\n",
       "      <td>606xx</td>\n",
       "      <td>IL</td>\n",
       "      <td>8.72</td>\n",
       "      <td>0</td>\n",
       "      <td>Nov-01</td>\n",
       "      <td>2</td>\n",
       "      <td>NaN</td>\n",
       "      <td>NaN</td>\n",
       "      <td>2</td>\n",
       "      <td>0</td>\n",
       "      <td>2956</td>\n",
       "      <td>98.50%</td>\n",
       "      <td>10</td>\n",
       "      <td>f</td>\n",
       "      <td>0.00</td>\n",
       "      <td>0.00</td>\n",
       "      <td>3005.666844</td>\n",
       "      <td>3005.67</td>\n",
       "      <td>2400.00</td>\n",
       "      <td>605.67</td>\n",
       "      <td>0.00</td>\n",
       "      <td>0.00</td>\n",
       "      <td>0.00</td>\n",
       "      <td>Jun-14</td>\n",
       "      <td>649.91</td>\n",
       "      <td>NaN</td>\n",
       "      <td>May-16</td>\n",
       "      <td>0.0</td>\n",
       "      <td>NaN</td>\n",
       "      <td>1</td>\n",
       "      <td>INDIVIDUAL</td>\n",
       "      <td>NaN</td>\n",
       "      <td>NaN</td>\n",
       "      <td>NaN</td>\n",
       "      <td>0</td>\n",
       "      <td>NaN</td>\n",
       "      <td>NaN</td>\n",
       "      <td>NaN</td>\n",
       "      <td>NaN</td>\n",
       "      <td>NaN</td>\n",
       "      <td>NaN</td>\n",
       "      <td>NaN</td>\n",
       "      <td>NaN</td>\n",
       "      <td>NaN</td>\n",
       "      <td>NaN</td>\n",
       "      <td>NaN</td>\n",
       "      <td>NaN</td>\n",
       "      <td>NaN</td>\n",
       "      <td>NaN</td>\n",
       "      <td>NaN</td>\n",
       "      <td>NaN</td>\n",
       "      <td>NaN</td>\n",
       "      <td>NaN</td>\n",
       "      <td>NaN</td>\n",
       "      <td>NaN</td>\n",
       "      <td>NaN</td>\n",
       "      <td>0.0</td>\n",
       "      <td>0</td>\n",
       "      <td>NaN</td>\n",
       "      <td>NaN</td>\n",
       "      <td>NaN</td>\n",
       "      <td>NaN</td>\n",
       "      <td>NaN</td>\n",
       "      <td>NaN</td>\n",
       "      <td>NaN</td>\n",
       "      <td>NaN</td>\n",
       "      <td>NaN</td>\n",
       "      <td>NaN</td>\n",
       "      <td>NaN</td>\n",
       "      <td>NaN</td>\n",
       "      <td>NaN</td>\n",
       "      <td>NaN</td>\n",
       "      <td>NaN</td>\n",
       "      <td>NaN</td>\n",
       "      <td>NaN</td>\n",
       "      <td>NaN</td>\n",
       "      <td>NaN</td>\n",
       "      <td>NaN</td>\n",
       "      <td>NaN</td>\n",
       "      <td>NaN</td>\n",
       "      <td>NaN</td>\n",
       "      <td>NaN</td>\n",
       "      <td>NaN</td>\n",
       "      <td>0.0</td>\n",
       "      <td>0.0</td>\n",
       "      <td>NaN</td>\n",
       "      <td>NaN</td>\n",
       "      <td>NaN</td>\n",
       "      <td>NaN</td>\n",
       "    </tr>\n",
       "    <tr>\n",
       "      <th>3</th>\n",
       "      <td>1076863</td>\n",
       "      <td>1277178</td>\n",
       "      <td>10000</td>\n",
       "      <td>10000</td>\n",
       "      <td>10000.0</td>\n",
       "      <td>36 months</td>\n",
       "      <td>13.49%</td>\n",
       "      <td>339.31</td>\n",
       "      <td>C</td>\n",
       "      <td>C1</td>\n",
       "      <td>AIR RESOURCES BOARD</td>\n",
       "      <td>10+ years</td>\n",
       "      <td>RENT</td>\n",
       "      <td>49200.0</td>\n",
       "      <td>Source Verified</td>\n",
       "      <td>Dec-11</td>\n",
       "      <td>Fully Paid</td>\n",
       "      <td>n</td>\n",
       "      <td>https://lendingclub.com/browse/loanDetail.action?loan_id=1076863</td>\n",
       "      <td>Borrower added on 12/21/11 &gt; to pay for property tax (borrow from friend, need to pay back) &amp; central A/C need to be replace. I'm very sorry to let my loan expired last time.&lt;br&gt;</td>\n",
       "      <td>other</td>\n",
       "      <td>personel</td>\n",
       "      <td>917xx</td>\n",
       "      <td>CA</td>\n",
       "      <td>20.00</td>\n",
       "      <td>0</td>\n",
       "      <td>Feb-96</td>\n",
       "      <td>1</td>\n",
       "      <td>35.0</td>\n",
       "      <td>NaN</td>\n",
       "      <td>10</td>\n",
       "      <td>0</td>\n",
       "      <td>5598</td>\n",
       "      <td>21%</td>\n",
       "      <td>37</td>\n",
       "      <td>f</td>\n",
       "      <td>0.00</td>\n",
       "      <td>0.00</td>\n",
       "      <td>12231.890000</td>\n",
       "      <td>12231.89</td>\n",
       "      <td>10000.00</td>\n",
       "      <td>2214.92</td>\n",
       "      <td>16.97</td>\n",
       "      <td>0.00</td>\n",
       "      <td>0.00</td>\n",
       "      <td>Jan-15</td>\n",
       "      <td>357.48</td>\n",
       "      <td>NaN</td>\n",
       "      <td>Apr-16</td>\n",
       "      <td>0.0</td>\n",
       "      <td>NaN</td>\n",
       "      <td>1</td>\n",
       "      <td>INDIVIDUAL</td>\n",
       "      <td>NaN</td>\n",
       "      <td>NaN</td>\n",
       "      <td>NaN</td>\n",
       "      <td>0</td>\n",
       "      <td>NaN</td>\n",
       "      <td>NaN</td>\n",
       "      <td>NaN</td>\n",
       "      <td>NaN</td>\n",
       "      <td>NaN</td>\n",
       "      <td>NaN</td>\n",
       "      <td>NaN</td>\n",
       "      <td>NaN</td>\n",
       "      <td>NaN</td>\n",
       "      <td>NaN</td>\n",
       "      <td>NaN</td>\n",
       "      <td>NaN</td>\n",
       "      <td>NaN</td>\n",
       "      <td>NaN</td>\n",
       "      <td>NaN</td>\n",
       "      <td>NaN</td>\n",
       "      <td>NaN</td>\n",
       "      <td>NaN</td>\n",
       "      <td>NaN</td>\n",
       "      <td>NaN</td>\n",
       "      <td>NaN</td>\n",
       "      <td>0.0</td>\n",
       "      <td>0</td>\n",
       "      <td>NaN</td>\n",
       "      <td>NaN</td>\n",
       "      <td>NaN</td>\n",
       "      <td>NaN</td>\n",
       "      <td>NaN</td>\n",
       "      <td>NaN</td>\n",
       "      <td>NaN</td>\n",
       "      <td>NaN</td>\n",
       "      <td>NaN</td>\n",
       "      <td>NaN</td>\n",
       "      <td>NaN</td>\n",
       "      <td>NaN</td>\n",
       "      <td>NaN</td>\n",
       "      <td>NaN</td>\n",
       "      <td>NaN</td>\n",
       "      <td>NaN</td>\n",
       "      <td>NaN</td>\n",
       "      <td>NaN</td>\n",
       "      <td>NaN</td>\n",
       "      <td>NaN</td>\n",
       "      <td>NaN</td>\n",
       "      <td>NaN</td>\n",
       "      <td>NaN</td>\n",
       "      <td>NaN</td>\n",
       "      <td>NaN</td>\n",
       "      <td>0.0</td>\n",
       "      <td>0.0</td>\n",
       "      <td>NaN</td>\n",
       "      <td>NaN</td>\n",
       "      <td>NaN</td>\n",
       "      <td>NaN</td>\n",
       "    </tr>\n",
       "    <tr>\n",
       "      <th>4</th>\n",
       "      <td>1075358</td>\n",
       "      <td>1311748</td>\n",
       "      <td>3000</td>\n",
       "      <td>3000</td>\n",
       "      <td>3000.0</td>\n",
       "      <td>60 months</td>\n",
       "      <td>12.69%</td>\n",
       "      <td>67.79</td>\n",
       "      <td>B</td>\n",
       "      <td>B5</td>\n",
       "      <td>University Medical Group</td>\n",
       "      <td>1 year</td>\n",
       "      <td>RENT</td>\n",
       "      <td>80000.0</td>\n",
       "      <td>Source Verified</td>\n",
       "      <td>Dec-11</td>\n",
       "      <td>Current</td>\n",
       "      <td>n</td>\n",
       "      <td>https://lendingclub.com/browse/loanDetail.action?loan_id=1075358</td>\n",
       "      <td>Borrower added on 12/21/11 &gt; I plan on combining three large interest bills together and freeing up some extra each month to pay toward other bills.  I've always been a good payor but have found myself needing to make adjustments to my budget due to a medical scare. My job is very stable, I love it.&lt;br&gt;</td>\n",
       "      <td>other</td>\n",
       "      <td>Personal</td>\n",
       "      <td>972xx</td>\n",
       "      <td>OR</td>\n",
       "      <td>17.94</td>\n",
       "      <td>0</td>\n",
       "      <td>Jan-96</td>\n",
       "      <td>0</td>\n",
       "      <td>38.0</td>\n",
       "      <td>NaN</td>\n",
       "      <td>15</td>\n",
       "      <td>0</td>\n",
       "      <td>27783</td>\n",
       "      <td>53.90%</td>\n",
       "      <td>38</td>\n",
       "      <td>f</td>\n",
       "      <td>524.06</td>\n",
       "      <td>524.06</td>\n",
       "      <td>3513.330000</td>\n",
       "      <td>3513.33</td>\n",
       "      <td>2475.94</td>\n",
       "      <td>1037.39</td>\n",
       "      <td>0.00</td>\n",
       "      <td>0.00</td>\n",
       "      <td>0.00</td>\n",
       "      <td>May-16</td>\n",
       "      <td>67.79</td>\n",
       "      <td>Jun-16</td>\n",
       "      <td>May-16</td>\n",
       "      <td>0.0</td>\n",
       "      <td>NaN</td>\n",
       "      <td>1</td>\n",
       "      <td>INDIVIDUAL</td>\n",
       "      <td>NaN</td>\n",
       "      <td>NaN</td>\n",
       "      <td>NaN</td>\n",
       "      <td>0</td>\n",
       "      <td>NaN</td>\n",
       "      <td>NaN</td>\n",
       "      <td>NaN</td>\n",
       "      <td>NaN</td>\n",
       "      <td>NaN</td>\n",
       "      <td>NaN</td>\n",
       "      <td>NaN</td>\n",
       "      <td>NaN</td>\n",
       "      <td>NaN</td>\n",
       "      <td>NaN</td>\n",
       "      <td>NaN</td>\n",
       "      <td>NaN</td>\n",
       "      <td>NaN</td>\n",
       "      <td>NaN</td>\n",
       "      <td>NaN</td>\n",
       "      <td>NaN</td>\n",
       "      <td>NaN</td>\n",
       "      <td>NaN</td>\n",
       "      <td>NaN</td>\n",
       "      <td>NaN</td>\n",
       "      <td>NaN</td>\n",
       "      <td>0.0</td>\n",
       "      <td>0</td>\n",
       "      <td>NaN</td>\n",
       "      <td>NaN</td>\n",
       "      <td>NaN</td>\n",
       "      <td>NaN</td>\n",
       "      <td>NaN</td>\n",
       "      <td>NaN</td>\n",
       "      <td>NaN</td>\n",
       "      <td>NaN</td>\n",
       "      <td>NaN</td>\n",
       "      <td>NaN</td>\n",
       "      <td>NaN</td>\n",
       "      <td>NaN</td>\n",
       "      <td>NaN</td>\n",
       "      <td>NaN</td>\n",
       "      <td>NaN</td>\n",
       "      <td>NaN</td>\n",
       "      <td>NaN</td>\n",
       "      <td>NaN</td>\n",
       "      <td>NaN</td>\n",
       "      <td>NaN</td>\n",
       "      <td>NaN</td>\n",
       "      <td>NaN</td>\n",
       "      <td>NaN</td>\n",
       "      <td>NaN</td>\n",
       "      <td>NaN</td>\n",
       "      <td>0.0</td>\n",
       "      <td>0.0</td>\n",
       "      <td>NaN</td>\n",
       "      <td>NaN</td>\n",
       "      <td>NaN</td>\n",
       "      <td>NaN</td>\n",
       "    </tr>\n",
       "  </tbody>\n",
       "</table>\n",
       "</div>"
      ],
      "text/plain": [
       "        id  member_id  loan_amnt  funded_amnt  funded_amnt_inv        term  \\\n",
       "0  1077501    1296599       5000         5000           4975.0   36 months   \n",
       "1  1077430    1314167       2500         2500           2500.0   60 months   \n",
       "2  1077175    1313524       2400         2400           2400.0   36 months   \n",
       "3  1076863    1277178      10000        10000          10000.0   36 months   \n",
       "4  1075358    1311748       3000         3000           3000.0   60 months   \n",
       "\n",
       "  int_rate  installment grade sub_grade                 emp_title emp_length  \\\n",
       "0   10.65%       162.87     B        B2                       NaN  10+ years   \n",
       "1   15.27%        59.83     C        C4                     Ryder   < 1 year   \n",
       "2   15.96%        84.33     C        C5                       NaN  10+ years   \n",
       "3   13.49%       339.31     C        C1       AIR RESOURCES BOARD  10+ years   \n",
       "4   12.69%        67.79     B        B5  University Medical Group     1 year   \n",
       "\n",
       "  home_ownership  annual_inc verification_status issue_d  loan_status  \\\n",
       "0           RENT     24000.0            Verified  Dec-11   Fully Paid   \n",
       "1           RENT     30000.0     Source Verified  Dec-11  Charged Off   \n",
       "2           RENT     12252.0        Not Verified  Dec-11   Fully Paid   \n",
       "3           RENT     49200.0     Source Verified  Dec-11   Fully Paid   \n",
       "4           RENT     80000.0     Source Verified  Dec-11      Current   \n",
       "\n",
       "  pymnt_plan  \\\n",
       "0          n   \n",
       "1          n   \n",
       "2          n   \n",
       "3          n   \n",
       "4          n   \n",
       "\n",
       "                                                                url  \\\n",
       "0  https://lendingclub.com/browse/loanDetail.action?loan_id=1077501   \n",
       "1  https://lendingclub.com/browse/loanDetail.action?loan_id=1077430   \n",
       "2  https://lendingclub.com/browse/loanDetail.action?loan_id=1077175   \n",
       "3  https://lendingclub.com/browse/loanDetail.action?loan_id=1076863   \n",
       "4  https://lendingclub.com/browse/loanDetail.action?loan_id=1075358   \n",
       "\n",
       "                                                                                                                                                                                                                                                                                                                                                                                                                                                                                                                                                                                                             desc  \\\n",
       "0                                                                                                                                                                                                                                                                                                                                                                                                                                                                                                                                    Borrower added on 12/22/11 > I need to upgrade my business technologies.<br>   \n",
       "1    Borrower added on 12/22/11 > I plan to use this money to finance the motorcycle i am looking at. I plan to have it paid off as soon as possible/when i sell my old bike. I only need this money because the deal im looking at is to good to pass up.<br><br>  Borrower added on 12/22/11 > I plan to use this money to finance the motorcycle i am looking at. I plan to have it paid off as soon as possible/when i sell my old bike.I only need this money because the deal im looking at is to good to pass up. I have finished college with an associates degree in business and its takingmeplaces<br>   \n",
       "2                                                                                                                                                                                                                                                                                                                                                                                                                                                                                                                                                                                                             NaN   \n",
       "3                                                                                                                                                                                                                                                                                                                                                                                                                              Borrower added on 12/21/11 > to pay for property tax (borrow from friend, need to pay back) & central A/C need to be replace. I'm very sorry to let my loan expired last time.<br>   \n",
       "4                                                                                                                                                                                                                                                                                                Borrower added on 12/21/11 > I plan on combining three large interest bills together and freeing up some extra each month to pay toward other bills.  I've always been a good payor but have found myself needing to make adjustments to my budget due to a medical scare. My job is very stable, I love it.<br>   \n",
       "\n",
       "          purpose                 title zip_code addr_state    dti  \\\n",
       "0     credit_card              Computer    860xx         AZ  27.65   \n",
       "1             car                  bike    309xx         GA   1.00   \n",
       "2  small_business  real estate business    606xx         IL   8.72   \n",
       "3           other              personel    917xx         CA  20.00   \n",
       "4           other              Personal    972xx         OR  17.94   \n",
       "\n",
       "   delinq_2yrs earliest_cr_line  inq_last_6mths  mths_since_last_delinq  \\\n",
       "0            0           Jan-85               1                     NaN   \n",
       "1            0           Apr-99               5                     NaN   \n",
       "2            0           Nov-01               2                     NaN   \n",
       "3            0           Feb-96               1                    35.0   \n",
       "4            0           Jan-96               0                    38.0   \n",
       "\n",
       "   mths_since_last_record  open_acc  pub_rec  revol_bal revol_util  total_acc  \\\n",
       "0                     NaN         3        0      13648     83.70%          9   \n",
       "1                     NaN         3        0       1687      9.40%          4   \n",
       "2                     NaN         2        0       2956     98.50%         10   \n",
       "3                     NaN        10        0       5598        21%         37   \n",
       "4                     NaN        15        0      27783     53.90%         38   \n",
       "\n",
       "  initial_list_status  out_prncp  out_prncp_inv   total_pymnt  \\\n",
       "0                   f       0.00           0.00   5863.155187   \n",
       "1                   f       0.00           0.00   1008.710000   \n",
       "2                   f       0.00           0.00   3005.666844   \n",
       "3                   f       0.00           0.00  12231.890000   \n",
       "4                   f     524.06         524.06   3513.330000   \n",
       "\n",
       "   total_pymnt_inv  total_rec_prncp  total_rec_int  total_rec_late_fee  \\\n",
       "0          5833.84          5000.00         863.16                0.00   \n",
       "1          1008.71           456.46         435.17                0.00   \n",
       "2          3005.67          2400.00         605.67                0.00   \n",
       "3         12231.89         10000.00        2214.92               16.97   \n",
       "4          3513.33          2475.94        1037.39                0.00   \n",
       "\n",
       "   recoveries  collection_recovery_fee last_pymnt_d  last_pymnt_amnt  \\\n",
       "0        0.00                     0.00       Jan-15           171.62   \n",
       "1      117.08                     1.11       Apr-13           119.66   \n",
       "2        0.00                     0.00       Jun-14           649.91   \n",
       "3        0.00                     0.00       Jan-15           357.48   \n",
       "4        0.00                     0.00       May-16            67.79   \n",
       "\n",
       "  next_pymnt_d last_credit_pull_d  collections_12_mths_ex_med  \\\n",
       "0          NaN             May-16                         0.0   \n",
       "1          NaN             Sep-13                         0.0   \n",
       "2          NaN             May-16                         0.0   \n",
       "3          NaN             Apr-16                         0.0   \n",
       "4       Jun-16             May-16                         0.0   \n",
       "\n",
       "   mths_since_last_major_derog  policy_code application_type  \\\n",
       "0                          NaN            1       INDIVIDUAL   \n",
       "1                          NaN            1       INDIVIDUAL   \n",
       "2                          NaN            1       INDIVIDUAL   \n",
       "3                          NaN            1       INDIVIDUAL   \n",
       "4                          NaN            1       INDIVIDUAL   \n",
       "\n",
       "   annual_inc_joint  dti_joint  verification_status_joint  acc_now_delinq  \\\n",
       "0               NaN        NaN                        NaN               0   \n",
       "1               NaN        NaN                        NaN               0   \n",
       "2               NaN        NaN                        NaN               0   \n",
       "3               NaN        NaN                        NaN               0   \n",
       "4               NaN        NaN                        NaN               0   \n",
       "\n",
       "   tot_coll_amt  tot_cur_bal  open_acc_6m  open_il_6m  open_il_12m  \\\n",
       "0           NaN          NaN          NaN         NaN          NaN   \n",
       "1           NaN          NaN          NaN         NaN          NaN   \n",
       "2           NaN          NaN          NaN         NaN          NaN   \n",
       "3           NaN          NaN          NaN         NaN          NaN   \n",
       "4           NaN          NaN          NaN         NaN          NaN   \n",
       "\n",
       "   open_il_24m  mths_since_rcnt_il  total_bal_il  il_util  open_rv_12m  \\\n",
       "0          NaN                 NaN           NaN      NaN          NaN   \n",
       "1          NaN                 NaN           NaN      NaN          NaN   \n",
       "2          NaN                 NaN           NaN      NaN          NaN   \n",
       "3          NaN                 NaN           NaN      NaN          NaN   \n",
       "4          NaN                 NaN           NaN      NaN          NaN   \n",
       "\n",
       "   open_rv_24m  max_bal_bc  all_util  total_rev_hi_lim  inq_fi  total_cu_tl  \\\n",
       "0          NaN         NaN       NaN               NaN     NaN          NaN   \n",
       "1          NaN         NaN       NaN               NaN     NaN          NaN   \n",
       "2          NaN         NaN       NaN               NaN     NaN          NaN   \n",
       "3          NaN         NaN       NaN               NaN     NaN          NaN   \n",
       "4          NaN         NaN       NaN               NaN     NaN          NaN   \n",
       "\n",
       "   inq_last_12m  acc_open_past_24mths  avg_cur_bal  bc_open_to_buy  bc_util  \\\n",
       "0           NaN                   NaN          NaN             NaN      NaN   \n",
       "1           NaN                   NaN          NaN             NaN      NaN   \n",
       "2           NaN                   NaN          NaN             NaN      NaN   \n",
       "3           NaN                   NaN          NaN             NaN      NaN   \n",
       "4           NaN                   NaN          NaN             NaN      NaN   \n",
       "\n",
       "   chargeoff_within_12_mths  delinq_amnt  mo_sin_old_il_acct  \\\n",
       "0                       0.0            0                 NaN   \n",
       "1                       0.0            0                 NaN   \n",
       "2                       0.0            0                 NaN   \n",
       "3                       0.0            0                 NaN   \n",
       "4                       0.0            0                 NaN   \n",
       "\n",
       "   mo_sin_old_rev_tl_op  mo_sin_rcnt_rev_tl_op  mo_sin_rcnt_tl  mort_acc  \\\n",
       "0                   NaN                    NaN             NaN       NaN   \n",
       "1                   NaN                    NaN             NaN       NaN   \n",
       "2                   NaN                    NaN             NaN       NaN   \n",
       "3                   NaN                    NaN             NaN       NaN   \n",
       "4                   NaN                    NaN             NaN       NaN   \n",
       "\n",
       "   mths_since_recent_bc  mths_since_recent_bc_dlq  mths_since_recent_inq  \\\n",
       "0                   NaN                       NaN                    NaN   \n",
       "1                   NaN                       NaN                    NaN   \n",
       "2                   NaN                       NaN                    NaN   \n",
       "3                   NaN                       NaN                    NaN   \n",
       "4                   NaN                       NaN                    NaN   \n",
       "\n",
       "   mths_since_recent_revol_delinq  num_accts_ever_120_pd  num_actv_bc_tl  \\\n",
       "0                             NaN                    NaN             NaN   \n",
       "1                             NaN                    NaN             NaN   \n",
       "2                             NaN                    NaN             NaN   \n",
       "3                             NaN                    NaN             NaN   \n",
       "4                             NaN                    NaN             NaN   \n",
       "\n",
       "   num_actv_rev_tl  num_bc_sats  num_bc_tl  num_il_tl  num_op_rev_tl  \\\n",
       "0              NaN          NaN        NaN        NaN            NaN   \n",
       "1              NaN          NaN        NaN        NaN            NaN   \n",
       "2              NaN          NaN        NaN        NaN            NaN   \n",
       "3              NaN          NaN        NaN        NaN            NaN   \n",
       "4              NaN          NaN        NaN        NaN            NaN   \n",
       "\n",
       "   num_rev_accts  num_rev_tl_bal_gt_0  num_sats  num_tl_120dpd_2m  \\\n",
       "0            NaN                  NaN       NaN               NaN   \n",
       "1            NaN                  NaN       NaN               NaN   \n",
       "2            NaN                  NaN       NaN               NaN   \n",
       "3            NaN                  NaN       NaN               NaN   \n",
       "4            NaN                  NaN       NaN               NaN   \n",
       "\n",
       "   num_tl_30dpd  num_tl_90g_dpd_24m  num_tl_op_past_12m  pct_tl_nvr_dlq  \\\n",
       "0           NaN                 NaN                 NaN             NaN   \n",
       "1           NaN                 NaN                 NaN             NaN   \n",
       "2           NaN                 NaN                 NaN             NaN   \n",
       "3           NaN                 NaN                 NaN             NaN   \n",
       "4           NaN                 NaN                 NaN             NaN   \n",
       "\n",
       "   percent_bc_gt_75  pub_rec_bankruptcies  tax_liens  tot_hi_cred_lim  \\\n",
       "0               NaN                   0.0        0.0              NaN   \n",
       "1               NaN                   0.0        0.0              NaN   \n",
       "2               NaN                   0.0        0.0              NaN   \n",
       "3               NaN                   0.0        0.0              NaN   \n",
       "4               NaN                   0.0        0.0              NaN   \n",
       "\n",
       "   total_bal_ex_mort  total_bc_limit  total_il_high_credit_limit  \n",
       "0                NaN             NaN                         NaN  \n",
       "1                NaN             NaN                         NaN  \n",
       "2                NaN             NaN                         NaN  \n",
       "3                NaN             NaN                         NaN  \n",
       "4                NaN             NaN                         NaN  "
      ]
     },
     "execution_count": 5,
     "metadata": {},
     "output_type": "execute_result"
    }
   ],
   "source": [
    "df.head()"
   ]
  },
  {
   "cell_type": "code",
   "execution_count": 6,
   "id": "f6812026-539c-4cf3-bc76-a49065169749",
   "metadata": {},
   "outputs": [
    {
     "data": {
      "text/plain": [
       "(115, 2)"
      ]
     },
     "execution_count": 6,
     "metadata": {},
     "output_type": "execute_result"
    }
   ],
   "source": [
    "# Data Dictionary\n",
    "data_dictionary = pd.read_excel('Data_Dictionary.xlsx')\n",
    "data_dictionary = data_dictionary.dropna(axis=0, how=\"any\")\n",
    "data_dictionary.shape"
   ]
  },
  {
   "cell_type": "markdown",
   "id": "0da41154-12d3-4a0e-98ad-a73222d82010",
   "metadata": {},
   "source": [
    "# Assessing"
   ]
  },
  {
   "cell_type": "code",
   "execution_count": 7,
   "id": "91e56568-7e37-481d-9c6b-3db8f1a26e7e",
   "metadata": {},
   "outputs": [
    {
     "data": {
      "text/plain": [
       "0"
      ]
     },
     "execution_count": 7,
     "metadata": {},
     "output_type": "execute_result"
    }
   ],
   "source": [
    "# Check duplicated value\n",
    "df.duplicated().sum()"
   ]
  },
  {
   "cell_type": "code",
   "execution_count": 8,
   "id": "96c8ff0c-063b-491c-b2e6-6db198069f75",
   "metadata": {},
   "outputs": [
    {
     "name": "stdout",
     "output_type": "stream",
     "text": [
      "List of columns with NULL's : \n",
      "\n",
      " ['mths_since_last_major_derog', 'annual_inc_joint', 'dti_joint', 'verification_status_joint', 'tot_coll_amt', 'tot_cur_bal', 'open_acc_6m', 'open_il_6m', 'open_il_12m', 'open_il_24m', 'mths_since_rcnt_il', 'total_bal_il', 'il_util', 'open_rv_12m', 'open_rv_24m', 'max_bal_bc', 'all_util', 'total_rev_hi_lim', 'inq_fi', 'total_cu_tl', 'inq_last_12m', 'acc_open_past_24mths', 'avg_cur_bal', 'bc_open_to_buy', 'bc_util', 'mo_sin_old_il_acct', 'mo_sin_old_rev_tl_op', 'mo_sin_rcnt_rev_tl_op', 'mo_sin_rcnt_tl', 'mort_acc', 'mths_since_recent_bc', 'mths_since_recent_bc_dlq', 'mths_since_recent_inq', 'mths_since_recent_revol_delinq', 'num_accts_ever_120_pd', 'num_actv_bc_tl', 'num_actv_rev_tl', 'num_bc_sats', 'num_bc_tl', 'num_il_tl', 'num_op_rev_tl', 'num_rev_accts', 'num_rev_tl_bal_gt_0', 'num_sats', 'num_tl_120dpd_2m', 'num_tl_30dpd', 'num_tl_90g_dpd_24m', 'num_tl_op_past_12m', 'pct_tl_nvr_dlq', 'percent_bc_gt_75', 'tot_hi_cred_lim', 'total_bal_ex_mort', 'total_bc_limit', 'total_il_high_credit_limit'] \n",
      "\n",
      "Count of columns having all NULL values : 54\n"
     ]
    }
   ],
   "source": [
    "# Check null value for each column\n",
    "null_cols = df.columns[df.isnull().all(axis=0)].tolist()\n",
    "\n",
    "print(f\"List of columns with NULL's : \\n\\n {null_cols} \\n\")\n",
    "print(f\"Count of columns having all NULL values : {len(null_cols)}\")"
   ]
  },
  {
   "cell_type": "code",
   "execution_count": 9,
   "id": "aa95dbe3-4af5-4de6-9b1d-c486c4323780",
   "metadata": {},
   "outputs": [
    {
     "name": "stdout",
     "output_type": "stream",
     "text": [
      "\n",
      "List of columns that have same value for all records :  ['pymnt_plan', 'initial_list_status', 'collections_12_mths_ex_med', 'policy_code', 'application_type', 'acc_now_delinq', 'chargeoff_within_12_mths', 'delinq_amnt', 'tax_liens']\n"
     ]
    }
   ],
   "source": [
    "# Find the uniqueness of a column in data frame\n",
    "\n",
    "uniq_list = df.columns[(df.nunique() == 1)].tolist()\n",
    "print(\"\\nList of columns that have same value for all records : \", uniq_list )"
   ]
  },
  {
   "cell_type": "code",
   "execution_count": 10,
   "id": "4632a1cc-1574-41c2-8f78-a88b610661ff",
   "metadata": {},
   "outputs": [
    {
     "name": "stdout",
     "output_type": "stream",
     "text": [
      "<<<<< term >>>>> \n",
      "\n",
      "term\n",
      " 36 months    29096\n",
      " 60 months    10621\n",
      "Name: count, dtype: int64 \n",
      "\n",
      "<<<<< grade >>>>> \n",
      "\n",
      "grade\n",
      "B    12020\n",
      "A    10085\n",
      "C     8098\n",
      "D     5307\n",
      "E     2842\n",
      "F     1049\n",
      "G      316\n",
      "Name: count, dtype: int64 \n",
      "\n",
      "<<<<< sub_grade >>>>> \n",
      "\n",
      "sub_grade\n",
      "B3    2917\n",
      "A4    2886\n",
      "A5    2742\n",
      "B5    2704\n",
      "B4    2512\n",
      "C1    2136\n",
      "B2    2057\n",
      "C2    2011\n",
      "B1    1830\n",
      "A3    1810\n",
      "C3    1529\n",
      "A2    1508\n",
      "D2    1348\n",
      "C4    1236\n",
      "C5    1186\n",
      "D3    1173\n",
      "A1    1139\n",
      "D4     981\n",
      "D1     931\n",
      "D5     874\n",
      "E1     763\n",
      "E2     656\n",
      "E3     553\n",
      "E4     454\n",
      "E5     416\n",
      "F1     329\n",
      "F2     249\n",
      "F3     185\n",
      "F4     168\n",
      "F5     118\n",
      "G1     104\n",
      "G2      78\n",
      "G4      56\n",
      "G3      48\n",
      "G5      30\n",
      "Name: count, dtype: int64 \n",
      "\n",
      "<<<<< verification_status >>>>> \n",
      "\n",
      "verification_status\n",
      "Not Verified       16921\n",
      "Verified           12809\n",
      "Source Verified     9987\n",
      "Name: count, dtype: int64 \n",
      "\n",
      "<<<<< loan_status >>>>> \n",
      "\n",
      "loan_status\n",
      "Fully Paid     32950\n",
      "Charged Off     5627\n",
      "Current         1140\n",
      "Name: count, dtype: int64 \n",
      "\n",
      "<<<<< purpose >>>>> \n",
      "\n",
      "purpose\n",
      "debt_consolidation    18641\n",
      "credit_card            5130\n",
      "other                  3993\n",
      "home_improvement       2976\n",
      "major_purchase         2187\n",
      "small_business         1828\n",
      "car                    1549\n",
      "wedding                 947\n",
      "medical                 693\n",
      "moving                  583\n",
      "vacation                381\n",
      "house                   381\n",
      "educational             325\n",
      "renewable_energy        103\n",
      "Name: count, dtype: int64 \n",
      "\n",
      "<<<<< home_ownership >>>>> \n",
      "\n",
      "home_ownership\n",
      "RENT        18899\n",
      "MORTGAGE    17659\n",
      "OWN          3058\n",
      "OTHER          98\n",
      "NONE            3\n",
      "Name: count, dtype: int64 \n",
      "\n"
     ]
    }
   ],
   "source": [
    "# Find columns that have Categorical variables in the dataset\n",
    "\n",
    "# Function that lists the categorical_values in a column\n",
    "def categorical_values(column_list):\n",
    "    for column in column_list:\n",
    "         print(f\"<<<<< {column} >>>>> \\n\")\n",
    "         print(df[column].value_counts(), \"\\n\")\n",
    "\n",
    "column_list = ['term', 'grade', 'sub_grade', 'verification_status', 'loan_status', 'purpose', \"home_ownership\"]\n",
    "categorical_values(column_list)"
   ]
  },
  {
   "cell_type": "markdown",
   "id": "93aca542-7b25-4199-9149-2d0ccf47fe70",
   "metadata": {},
   "source": [
    ">1) Columns used post-loan approval need to be dropped.\n",
    ">2) Some rows have loan_status as \"Current\".\n",
    ">3) Some columns have all NULL values.\n",
    ">4) Some columns are textual and masked and do not aid in the analysis.\n",
    ">5) Some columns have the same values across all rows of the dataset.\n",
    ">6) For the columns where the data has a % symbol in it, clean the data.\n",
    ">7) The values in the emp_length need to be cleaned.\n",
    ">8) Round off the amount values to the nearest 2 digits.\n",
    ">9) Some columns with date values are of object data type.\n",
    ">10) Convert the data type to float after cleaning the data with % in them.\n",
    ">11) Convert the data type to categorical for columns that have categorical values.\n",
    ">12) Break down the date columns to smaller metrics like month, and year.\n",
    ">13) Handle the missing values: imputing/ deleting.\n",
    ">14) Renaming the columns : Abbrevations etc.\n",
    ">15) Treating the outliers."
   ]
  },
  {
   "cell_type": "markdown",
   "id": "00a72010-b1b4-4c12-b6c6-4bebc047f410",
   "metadata": {},
   "source": [
    "# Cleaning"
   ]
  },
  {
   "cell_type": "code",
   "execution_count": 11,
   "id": "17443b77-eb3e-4d67-a0bd-55357ef93c79",
   "metadata": {},
   "outputs": [],
   "source": [
    "df_clean = df.copy()"
   ]
  },
  {
   "cell_type": "code",
   "execution_count": 12,
   "id": "8abbc1fd-5403-4a0f-97d8-a709423534a9",
   "metadata": {},
   "outputs": [
    {
     "data": {
      "text/plain": [
       "(39717, 111)"
      ]
     },
     "execution_count": 12,
     "metadata": {},
     "output_type": "execute_result"
    }
   ],
   "source": [
    "df_clean.shape"
   ]
  },
  {
   "cell_type": "markdown",
   "id": "46b7545b-6633-4b0f-a4a8-ba36c603db90",
   "metadata": {},
   "source": [
    "##### Define"
   ]
  },
  {
   "cell_type": "markdown",
   "id": "ac649d64-1900-4a12-8bcf-1149c6d513c2",
   "metadata": {},
   "source": [
    "> 1) Dropping columns used post-loan approval that would not aid in analysis."
   ]
  },
  {
   "cell_type": "markdown",
   "id": "9516ff82-d47f-4ee1-a854-e9b334140149",
   "metadata": {},
   "source": [
    "##### Code"
   ]
  },
  {
   "cell_type": "code",
   "execution_count": 13,
   "id": "48e6fba2-4eb3-462a-a51a-9c94f611761e",
   "metadata": {},
   "outputs": [
    {
     "data": {
      "text/html": [
       "<div>\n",
       "<style scoped>\n",
       "    .dataframe tbody tr th:only-of-type {\n",
       "        vertical-align: middle;\n",
       "    }\n",
       "\n",
       "    .dataframe tbody tr th {\n",
       "        vertical-align: top;\n",
       "    }\n",
       "\n",
       "    .dataframe thead th {\n",
       "        text-align: right;\n",
       "    }\n",
       "</style>\n",
       "<table border=\"1\" class=\"dataframe\">\n",
       "  <thead>\n",
       "    <tr style=\"text-align: right;\">\n",
       "      <th></th>\n",
       "      <th>LoanStatNew</th>\n",
       "      <th>Description</th>\n",
       "    </tr>\n",
       "  </thead>\n",
       "  <tbody>\n",
       "    <tr>\n",
       "      <th>21</th>\n",
       "      <td>fico_range_high</td>\n",
       "      <td>The upper boundary range the borrower’s FICO at loan origination belongs to.</td>\n",
       "    </tr>\n",
       "    <tr>\n",
       "      <th>22</th>\n",
       "      <td>fico_range_low</td>\n",
       "      <td>The lower boundary range the borrower’s FICO at loan origination belongs to.</td>\n",
       "    </tr>\n",
       "    <tr>\n",
       "      <th>37</th>\n",
       "      <td>last_fico_range_high</td>\n",
       "      <td>The upper boundary range the borrower’s last FICO pulled belongs to.</td>\n",
       "    </tr>\n",
       "    <tr>\n",
       "      <th>38</th>\n",
       "      <td>last_fico_range_low</td>\n",
       "      <td>The lower boundary range the borrower’s last FICO pulled belongs to.</td>\n",
       "    </tr>\n",
       "    <tr>\n",
       "      <th>110</th>\n",
       "      <td>total_rev_hi_lim</td>\n",
       "      <td>Total revolving high credit/credit limit</td>\n",
       "    </tr>\n",
       "    <tr>\n",
       "      <th>113</th>\n",
       "      <td>verified_status_joint</td>\n",
       "      <td>Indicates if the co-borrowers' joint income was verified by LC, not verified, or if the income source was verified</td>\n",
       "    </tr>\n",
       "  </tbody>\n",
       "</table>\n",
       "</div>"
      ],
      "text/plain": [
       "               LoanStatNew  \\\n",
       "21         fico_range_high   \n",
       "22          fico_range_low   \n",
       "37    last_fico_range_high   \n",
       "38     last_fico_range_low   \n",
       "110     total_rev_hi_lim     \n",
       "113  verified_status_joint   \n",
       "\n",
       "                                                                                                            Description  \n",
       "21                                         The upper boundary range the borrower’s FICO at loan origination belongs to.  \n",
       "22                                         The lower boundary range the borrower’s FICO at loan origination belongs to.  \n",
       "37                                                 The upper boundary range the borrower’s last FICO pulled belongs to.  \n",
       "38                                                 The lower boundary range the borrower’s last FICO pulled belongs to.  \n",
       "110                                                                            Total revolving high credit/credit limit  \n",
       "113  Indicates if the co-borrowers' joint income was verified by LC, not verified, or if the income source was verified  "
      ]
     },
     "execution_count": 13,
     "metadata": {},
     "output_type": "execute_result"
    }
   ],
   "source": [
    "# Columns in data_dictionary not available in the data\n",
    "data_dictionary[data_dictionary.LoanStatNew.isin(df.columns.tolist()) == False]"
   ]
  },
  {
   "cell_type": "code",
   "execution_count": 14,
   "id": "bc58efba-a171-4c3f-ba26-840da0024cf5",
   "metadata": {},
   "outputs": [],
   "source": [
    "# Updating the data_dictionary\n",
    "data_dictionary = data_dictionary[~data_dictionary.LoanStatNew.isin(df.columns.tolist()) == False]"
   ]
  },
  {
   "cell_type": "code",
   "execution_count": 15,
   "id": "ca3f0fe0-253c-48ee-bbde-64ff070b4dc8",
   "metadata": {},
   "outputs": [],
   "source": [
    "# data_dictionary"
   ]
  },
  {
   "cell_type": "code",
   "execution_count": 16,
   "id": "bc15cc5c-61d9-4f6f-87f9-7ddd26fb3fb7",
   "metadata": {},
   "outputs": [],
   "source": [
    "post_loan_cols = ['earliest_cr_line', 'collection_recovery_fee' , 'last_credit_pull_d',\n",
    " 'delinq_2yrs', 'inq_last_6mths', 'last_pymnt_amnt', 'last_pymnt_d', \n",
    " 'open_acc', 'pub_rec', 'recoveries', 'revol_bal', 'revol_util', \n",
    " 'total_acc', 'total_pymnt', 'total_pymnt_inv', 'total_rec_prncp', 'total_rec_int', \n",
    " 'total_rec_late_fee' ]\n",
    "\n",
    "# Updating the data_dictionary of useful columns\n",
    "data_dictionary = data_dictionary[data_dictionary.LoanStatNew.isin(post_loan_cols) == False].reset_index(drop=True)\n",
    "\n",
    "#Dropping columns used post-loan approval\n",
    "df_clean = df_clean.drop(post_loan_cols, axis=1)"
   ]
  },
  {
   "cell_type": "markdown",
   "id": "48c7d899-78ef-4396-b97e-4565035906e8",
   "metadata": {},
   "source": [
    "##### Test"
   ]
  },
  {
   "cell_type": "code",
   "execution_count": 17,
   "id": "9336bd01-771b-4efa-a1ca-5bbdce344f50",
   "metadata": {},
   "outputs": [
    {
     "data": {
      "text/plain": [
       "Index([], dtype='object')"
      ]
     },
     "execution_count": 17,
     "metadata": {},
     "output_type": "execute_result"
    }
   ],
   "source": [
    "# Validating df_clean for post-approval columns\n",
    "df_clean.columns[df_clean.columns.isin(post_loan_cols) == True]"
   ]
  },
  {
   "cell_type": "markdown",
   "id": "b0a3192f-8d20-40f2-8eee-20955ab36644",
   "metadata": {},
   "source": [
    "##### Define"
   ]
  },
  {
   "cell_type": "markdown",
   "id": "d12120d8-5a2f-4d65-9449-90b1049f0847",
   "metadata": {},
   "source": [
    ">2) Dropping rows that have loan_status as \"Current\".\n",
    ">3) Dropping the columns having all NULL values.\n",
    ">4) Dropping additional columns that do not aid in analysis : ''id', 'member_id', 'url', 'title', 'emp_title',  'desc', 'zip_code'\n",
    ">5) Dropping the columns that have same values in all rows of the dataset."
   ]
  },
  {
   "cell_type": "markdown",
   "id": "207630d1-e022-4a38-b039-960e7cccbd84",
   "metadata": {},
   "source": [
    "##### Code"
   ]
  },
  {
   "cell_type": "code",
   "execution_count": 18,
   "id": "8945fb92-84ac-4b5b-b02d-e92f88dbcb67",
   "metadata": {},
   "outputs": [],
   "source": [
    "# Dropping rows that have loan_status as \"Current\".\n",
    "df_clean = df_clean[df_clean['loan_status']!='Current']"
   ]
  },
  {
   "cell_type": "code",
   "execution_count": 19,
   "id": "1bdf037a-3f2b-42d4-a537-ab189d2ba5e6",
   "metadata": {},
   "outputs": [],
   "source": [
    "# Excluding columns available in the data whose all the values are null\n",
    "data_dictionary = data_dictionary[data_dictionary.LoanStatNew.isin(df_clean.columns[df_clean.isna().all()].tolist()) == False].reset_index(drop=True)\n",
    "\n",
    "# Dropping all the columns having NULL values\n",
    "df_clean = df_clean.dropna(axis = 1, how = 'all')"
   ]
  },
  {
   "cell_type": "code",
   "execution_count": 20,
   "id": "68b175c6-b00e-4463-b356-6820700a6004",
   "metadata": {},
   "outputs": [],
   "source": [
    "# Dropping any additional columns that do not aid in analysis.\n",
    "col_drop = ['id', 'member_id', 'url', 'title', 'emp_title', 'desc', 'zip_code']\n",
    "\n",
    "#Update the data_dictionary by removing the col_drop\n",
    "data_dictionary = data_dictionary[data_dictionary.LoanStatNew.isin(col_drop) == False].reset_index(drop=True)\n",
    "\n",
    "df_clean = df_clean.drop(col_drop, axis=1)"
   ]
  },
  {
   "cell_type": "code",
   "execution_count": 21,
   "id": "74d936a8-b0fd-4a84-a23c-71ef5fe84a87",
   "metadata": {},
   "outputs": [],
   "source": [
    "# Dropping all the columns that have same values in all the rows of the dataset.\n",
    "uniq_val_cols = df_clean.columns[(df_clean.nunique() == 1)].tolist()\n",
    "\n",
    "#Update the data_dictionary by removing the uniq_val_cols \n",
    "data_dictionary = data_dictionary[data_dictionary.LoanStatNew.isin(uniq_val_cols) == False].reset_index(drop=True)\n",
    "\n",
    "df_clean = df_clean.drop(uniq_val_cols, axis=1)"
   ]
  },
  {
   "cell_type": "markdown",
   "id": "07fe44ba-01cc-446b-af41-4f5388986b1c",
   "metadata": {},
   "source": [
    "##### Test"
   ]
  },
  {
   "cell_type": "code",
   "execution_count": 22,
   "id": "af37a0a0-7770-4aab-bb2c-09e02599ed94",
   "metadata": {},
   "outputs": [
    {
     "data": {
      "text/html": [
       "<div>\n",
       "<style scoped>\n",
       "    .dataframe tbody tr th:only-of-type {\n",
       "        vertical-align: middle;\n",
       "    }\n",
       "\n",
       "    .dataframe tbody tr th {\n",
       "        vertical-align: top;\n",
       "    }\n",
       "\n",
       "    .dataframe thead th {\n",
       "        text-align: right;\n",
       "    }\n",
       "</style>\n",
       "<table border=\"1\" class=\"dataframe\">\n",
       "  <thead>\n",
       "    <tr style=\"text-align: right;\">\n",
       "      <th></th>\n",
       "      <th>loan_amnt</th>\n",
       "      <th>funded_amnt</th>\n",
       "      <th>funded_amnt_inv</th>\n",
       "      <th>term</th>\n",
       "      <th>int_rate</th>\n",
       "      <th>installment</th>\n",
       "      <th>grade</th>\n",
       "      <th>sub_grade</th>\n",
       "      <th>emp_length</th>\n",
       "      <th>home_ownership</th>\n",
       "      <th>annual_inc</th>\n",
       "      <th>verification_status</th>\n",
       "      <th>issue_d</th>\n",
       "      <th>loan_status</th>\n",
       "      <th>purpose</th>\n",
       "      <th>addr_state</th>\n",
       "      <th>dti</th>\n",
       "      <th>mths_since_last_delinq</th>\n",
       "      <th>mths_since_last_record</th>\n",
       "      <th>pub_rec_bankruptcies</th>\n",
       "    </tr>\n",
       "  </thead>\n",
       "  <tbody>\n",
       "  </tbody>\n",
       "</table>\n",
       "</div>"
      ],
      "text/plain": [
       "Empty DataFrame\n",
       "Columns: [loan_amnt, funded_amnt, funded_amnt_inv, term, int_rate, installment, grade, sub_grade, emp_length, home_ownership, annual_inc, verification_status, issue_d, loan_status, purpose, addr_state, dti, mths_since_last_delinq, mths_since_last_record, pub_rec_bankruptcies]\n",
       "Index: []"
      ]
     },
     "execution_count": 22,
     "metadata": {},
     "output_type": "execute_result"
    }
   ],
   "source": [
    "# Validating if there are any rows that have loan_status as \"Current\".\n",
    "df_clean[df_clean['loan_status']=='Current']"
   ]
  },
  {
   "cell_type": "code",
   "execution_count": 23,
   "id": "765d8be2-1d0c-4ead-8697-f5b53f82d228",
   "metadata": {},
   "outputs": [
    {
     "data": {
      "text/plain": [
       "[]"
      ]
     },
     "execution_count": 23,
     "metadata": {},
     "output_type": "execute_result"
    }
   ],
   "source": [
    "# Validating if there is any column that has all NULL values\n",
    "df_clean.columns[df_clean.isnull().all(axis=0)].tolist()"
   ]
  },
  {
   "cell_type": "code",
   "execution_count": 24,
   "id": "14ca0d6f-05eb-47c4-b8da-9aad63e81118",
   "metadata": {},
   "outputs": [
    {
     "data": {
      "text/plain": [
       "[]"
      ]
     },
     "execution_count": 24,
     "metadata": {},
     "output_type": "execute_result"
    }
   ],
   "source": [
    "# Validating if there are columns that have same values for all rows in the dataset.\n",
    "df_clean.columns[(df_clean.nunique() == 1)].tolist()"
   ]
  },
  {
   "cell_type": "markdown",
   "id": "1629ed1f-3cb4-4e1a-81e1-d4ab4d94d32d",
   "metadata": {},
   "source": [
    "##### Define"
   ]
  },
  {
   "cell_type": "markdown",
   "id": "c88f7a46-e02c-455b-a50f-771372e6190f",
   "metadata": {},
   "source": [
    ">6) Removing the % symbol from the \"int_rate\" column.\n",
    ">7) Cleaning the values in \"emp_length\" column by removing the \"years\" from the data and converting \"10+\" to 10 and \"< 1\" to 0.\n",
    ">8) Round off the amount to nearest 2 digits."
   ]
  },
  {
   "cell_type": "markdown",
   "id": "7d3bcbf2-1408-4d01-bb19-1f0686da3681",
   "metadata": {},
   "source": [
    "##### Code"
   ]
  },
  {
   "cell_type": "code",
   "execution_count": 25,
   "id": "3475f0ec-5ca6-44b3-895a-f2930b45cae3",
   "metadata": {},
   "outputs": [],
   "source": [
    "# Removing the % symbol from the int_rate column.\n",
    "\n",
    "df_clean['int_rate'] = df_clean['int_rate'].str.split(\"%\").str[0]"
   ]
  },
  {
   "cell_type": "code",
   "execution_count": 26,
   "id": "87c0fde0-68ee-4c3a-ae02-61073b4124a7",
   "metadata": {},
   "outputs": [],
   "source": [
    "# Cleaning the values in \"emp_length\" column by removing the \"years\" from the data and converting \"10+\" to 10 and \"< 1\" to 0.\n",
    "\n",
    "df_clean.emp_length = df_clean.emp_length.str.split(\"year\").str[0]\n",
    "df_clean.emp_length = df_clean.emp_length.str.replace(\"+\",\"\").str.replace(\"< 1\",\"0\")"
   ]
  },
  {
   "cell_type": "code",
   "execution_count": 27,
   "id": "ecef7405-490c-49d3-8c1a-d3367a86b8e5",
   "metadata": {},
   "outputs": [],
   "source": [
    "# Round off the amounts to nearest 2 digits\n",
    "\n",
    "rnd_cols = ['loan_amnt','funded_amnt','funded_amnt_inv','installment','annual_inc']\n",
    "\n",
    "# Converting all the columns to float and then rounding to 2 digits\n",
    "df_clean[rnd_cols] = df_clean[rnd_cols].astype(\"float\").round(5)"
   ]
  },
  {
   "cell_type": "markdown",
   "id": "ea4a3ab9-6e99-4f67-abfa-0ed82824decf",
   "metadata": {},
   "source": [
    "##### Test"
   ]
  },
  {
   "cell_type": "code",
   "execution_count": 28,
   "id": "0602f004-cf57-470f-bd68-f7603100ee59",
   "metadata": {},
   "outputs": [
    {
     "data": {
      "text/plain": [
       "count     38577\n",
       "unique      370\n",
       "top       10.99\n",
       "freq        913\n",
       "Name: int_rate, dtype: object"
      ]
     },
     "execution_count": 28,
     "metadata": {},
     "output_type": "execute_result"
    }
   ],
   "source": [
    "# Validating the int_rate column.\n",
    "df_clean.int_rate.describe()"
   ]
  },
  {
   "cell_type": "code",
   "execution_count": 29,
   "id": "525c7702-2af9-49b1-8d3f-2b24bc05f790",
   "metadata": {},
   "outputs": [
    {
     "data": {
      "text/plain": [
       "emp_length\n",
       "10     8488\n",
       "0      4508\n",
       "2      4291\n",
       "3      4012\n",
       "4      3342\n",
       "5      3194\n",
       "1      3169\n",
       "6      2168\n",
       "7      1711\n",
       "8      1435\n",
       "9      1226\n",
       "Name: count, dtype: int64"
      ]
     },
     "execution_count": 29,
     "metadata": {},
     "output_type": "execute_result"
    }
   ],
   "source": [
    "# Validating the emp_length column.\n",
    "df_clean.emp_length.value_counts()"
   ]
  },
  {
   "cell_type": "code",
   "execution_count": 30,
   "id": "b51318c6-18c1-410e-a586-8f2342315f8e",
   "metadata": {},
   "outputs": [
    {
     "name": "stdout",
     "output_type": "stream",
     "text": [
      "<class 'pandas.core.frame.DataFrame'>\n",
      "Index: 38577 entries, 0 to 39716\n",
      "Data columns (total 20 columns):\n",
      " #   Column                  Non-Null Count  Dtype  \n",
      "---  ------                  --------------  -----  \n",
      " 0   loan_amnt               38577 non-null  float64\n",
      " 1   funded_amnt             38577 non-null  float64\n",
      " 2   funded_amnt_inv         38577 non-null  float64\n",
      " 3   term                    38577 non-null  object \n",
      " 4   int_rate                38577 non-null  object \n",
      " 5   installment             38577 non-null  float64\n",
      " 6   grade                   38577 non-null  object \n",
      " 7   sub_grade               38577 non-null  object \n",
      " 8   emp_length              37544 non-null  object \n",
      " 9   home_ownership          38577 non-null  object \n",
      " 10  annual_inc              38577 non-null  float64\n",
      " 11  verification_status     38577 non-null  object \n",
      " 12  issue_d                 38577 non-null  object \n",
      " 13  loan_status             38577 non-null  object \n",
      " 14  purpose                 38577 non-null  object \n",
      " 15  addr_state              38577 non-null  object \n",
      " 16  dti                     38577 non-null  float64\n",
      " 17  mths_since_last_delinq  13672 non-null  float64\n",
      " 18  mths_since_last_record  2740 non-null   float64\n",
      " 19  pub_rec_bankruptcies    37880 non-null  float64\n",
      "dtypes: float64(9), object(11)\n",
      "memory usage: 6.2+ MB\n",
      "None\n"
     ]
    },
    {
     "data": {
      "text/html": [
       "<div>\n",
       "<style scoped>\n",
       "    .dataframe tbody tr th:only-of-type {\n",
       "        vertical-align: middle;\n",
       "    }\n",
       "\n",
       "    .dataframe tbody tr th {\n",
       "        vertical-align: top;\n",
       "    }\n",
       "\n",
       "    .dataframe thead th {\n",
       "        text-align: right;\n",
       "    }\n",
       "</style>\n",
       "<table border=\"1\" class=\"dataframe\">\n",
       "  <thead>\n",
       "    <tr style=\"text-align: right;\">\n",
       "      <th></th>\n",
       "      <th>loan_amnt</th>\n",
       "      <th>funded_amnt</th>\n",
       "      <th>funded_amnt_inv</th>\n",
       "      <th>term</th>\n",
       "      <th>int_rate</th>\n",
       "      <th>installment</th>\n",
       "      <th>grade</th>\n",
       "      <th>sub_grade</th>\n",
       "      <th>emp_length</th>\n",
       "      <th>home_ownership</th>\n",
       "      <th>annual_inc</th>\n",
       "      <th>verification_status</th>\n",
       "      <th>issue_d</th>\n",
       "      <th>loan_status</th>\n",
       "      <th>purpose</th>\n",
       "      <th>addr_state</th>\n",
       "      <th>dti</th>\n",
       "      <th>mths_since_last_delinq</th>\n",
       "      <th>mths_since_last_record</th>\n",
       "      <th>pub_rec_bankruptcies</th>\n",
       "    </tr>\n",
       "  </thead>\n",
       "  <tbody>\n",
       "    <tr>\n",
       "      <th>0</th>\n",
       "      <td>5000.0</td>\n",
       "      <td>5000.0</td>\n",
       "      <td>4975.0</td>\n",
       "      <td>36 months</td>\n",
       "      <td>10.65</td>\n",
       "      <td>162.87</td>\n",
       "      <td>B</td>\n",
       "      <td>B2</td>\n",
       "      <td>10</td>\n",
       "      <td>RENT</td>\n",
       "      <td>24000.0</td>\n",
       "      <td>Verified</td>\n",
       "      <td>Dec-11</td>\n",
       "      <td>Fully Paid</td>\n",
       "      <td>credit_card</td>\n",
       "      <td>AZ</td>\n",
       "      <td>27.65</td>\n",
       "      <td>NaN</td>\n",
       "      <td>NaN</td>\n",
       "      <td>0.0</td>\n",
       "    </tr>\n",
       "    <tr>\n",
       "      <th>1</th>\n",
       "      <td>2500.0</td>\n",
       "      <td>2500.0</td>\n",
       "      <td>2500.0</td>\n",
       "      <td>60 months</td>\n",
       "      <td>15.27</td>\n",
       "      <td>59.83</td>\n",
       "      <td>C</td>\n",
       "      <td>C4</td>\n",
       "      <td>0</td>\n",
       "      <td>RENT</td>\n",
       "      <td>30000.0</td>\n",
       "      <td>Source Verified</td>\n",
       "      <td>Dec-11</td>\n",
       "      <td>Charged Off</td>\n",
       "      <td>car</td>\n",
       "      <td>GA</td>\n",
       "      <td>1.00</td>\n",
       "      <td>NaN</td>\n",
       "      <td>NaN</td>\n",
       "      <td>0.0</td>\n",
       "    </tr>\n",
       "    <tr>\n",
       "      <th>2</th>\n",
       "      <td>2400.0</td>\n",
       "      <td>2400.0</td>\n",
       "      <td>2400.0</td>\n",
       "      <td>36 months</td>\n",
       "      <td>15.96</td>\n",
       "      <td>84.33</td>\n",
       "      <td>C</td>\n",
       "      <td>C5</td>\n",
       "      <td>10</td>\n",
       "      <td>RENT</td>\n",
       "      <td>12252.0</td>\n",
       "      <td>Not Verified</td>\n",
       "      <td>Dec-11</td>\n",
       "      <td>Fully Paid</td>\n",
       "      <td>small_business</td>\n",
       "      <td>IL</td>\n",
       "      <td>8.72</td>\n",
       "      <td>NaN</td>\n",
       "      <td>NaN</td>\n",
       "      <td>0.0</td>\n",
       "    </tr>\n",
       "    <tr>\n",
       "      <th>3</th>\n",
       "      <td>10000.0</td>\n",
       "      <td>10000.0</td>\n",
       "      <td>10000.0</td>\n",
       "      <td>36 months</td>\n",
       "      <td>13.49</td>\n",
       "      <td>339.31</td>\n",
       "      <td>C</td>\n",
       "      <td>C1</td>\n",
       "      <td>10</td>\n",
       "      <td>RENT</td>\n",
       "      <td>49200.0</td>\n",
       "      <td>Source Verified</td>\n",
       "      <td>Dec-11</td>\n",
       "      <td>Fully Paid</td>\n",
       "      <td>other</td>\n",
       "      <td>CA</td>\n",
       "      <td>20.00</td>\n",
       "      <td>35.0</td>\n",
       "      <td>NaN</td>\n",
       "      <td>0.0</td>\n",
       "    </tr>\n",
       "    <tr>\n",
       "      <th>5</th>\n",
       "      <td>5000.0</td>\n",
       "      <td>5000.0</td>\n",
       "      <td>5000.0</td>\n",
       "      <td>36 months</td>\n",
       "      <td>7.90</td>\n",
       "      <td>156.46</td>\n",
       "      <td>A</td>\n",
       "      <td>A4</td>\n",
       "      <td>3</td>\n",
       "      <td>RENT</td>\n",
       "      <td>36000.0</td>\n",
       "      <td>Source Verified</td>\n",
       "      <td>Dec-11</td>\n",
       "      <td>Fully Paid</td>\n",
       "      <td>wedding</td>\n",
       "      <td>AZ</td>\n",
       "      <td>11.20</td>\n",
       "      <td>NaN</td>\n",
       "      <td>NaN</td>\n",
       "      <td>0.0</td>\n",
       "    </tr>\n",
       "  </tbody>\n",
       "</table>\n",
       "</div>"
      ],
      "text/plain": [
       "   loan_amnt  funded_amnt  funded_amnt_inv        term int_rate  installment  \\\n",
       "0     5000.0       5000.0           4975.0   36 months    10.65       162.87   \n",
       "1     2500.0       2500.0           2500.0   60 months    15.27        59.83   \n",
       "2     2400.0       2400.0           2400.0   36 months    15.96        84.33   \n",
       "3    10000.0      10000.0          10000.0   36 months    13.49       339.31   \n",
       "5     5000.0       5000.0           5000.0   36 months     7.90       156.46   \n",
       "\n",
       "  grade sub_grade emp_length home_ownership  annual_inc verification_status  \\\n",
       "0     B        B2        10            RENT     24000.0            Verified   \n",
       "1     C        C4         0            RENT     30000.0     Source Verified   \n",
       "2     C        C5        10            RENT     12252.0        Not Verified   \n",
       "3     C        C1        10            RENT     49200.0     Source Verified   \n",
       "5     A        A4         3            RENT     36000.0     Source Verified   \n",
       "\n",
       "  issue_d  loan_status         purpose addr_state    dti  \\\n",
       "0  Dec-11   Fully Paid     credit_card         AZ  27.65   \n",
       "1  Dec-11  Charged Off             car         GA   1.00   \n",
       "2  Dec-11   Fully Paid  small_business         IL   8.72   \n",
       "3  Dec-11   Fully Paid           other         CA  20.00   \n",
       "5  Dec-11   Fully Paid         wedding         AZ  11.20   \n",
       "\n",
       "   mths_since_last_delinq  mths_since_last_record  pub_rec_bankruptcies  \n",
       "0                     NaN                     NaN                   0.0  \n",
       "1                     NaN                     NaN                   0.0  \n",
       "2                     NaN                     NaN                   0.0  \n",
       "3                    35.0                     NaN                   0.0  \n",
       "5                     NaN                     NaN                   0.0  "
      ]
     },
     "execution_count": 30,
     "metadata": {},
     "output_type": "execute_result"
    }
   ],
   "source": [
    "# Validating the amount and rate columns data type.\n",
    "print(df_clean.info())\n",
    "\n",
    "df_clean.head()\n"
   ]
  },
  {
   "cell_type": "markdown",
   "id": "d2f9a8b2-ae0f-4d5a-bf5f-cf52f9a688c3",
   "metadata": {},
   "source": [
    "> 9) Converting the data type of date columns from object to datetime.\n",
    "> 10) Converting the data type of rate columns to float : 'int_rate'\n",
    "> 11) Convert the data type to categorical for columns that have categorical values."
   ]
  },
  {
   "cell_type": "markdown",
   "id": "e55ded84-c673-422b-bedc-56f7037afe2f",
   "metadata": {},
   "source": [
    "##### Code"
   ]
  },
  {
   "cell_type": "code",
   "execution_count": 31,
   "id": "f55c5550-127b-4981-8972-5dcc63e058d2",
   "metadata": {},
   "outputs": [],
   "source": [
    "# Converting to date type\n",
    "for col in df_clean.columns.to_list():\n",
    "    if re.match('(.*_d$|.*cr_line$)', col):\n",
    "        df_clean[col] = pd.to_datetime(df_clean[col],format=\"%b-%y\")"
   ]
  },
  {
   "cell_type": "code",
   "execution_count": 32,
   "id": "5ba139a6-1d50-4291-8fe3-c3088a806855",
   "metadata": {},
   "outputs": [],
   "source": [
    "# Converting to float type\n",
    "df_clean['int_rate'] = df_clean['int_rate'].astype(\"float\")"
   ]
  },
  {
   "cell_type": "code",
   "execution_count": 33,
   "id": "7868ab6a-1a40-4814-b8a0-3057b500037c",
   "metadata": {},
   "outputs": [],
   "source": [
    "# Converting to Categories\n",
    "columns = ['emp_length', 'home_ownership', 'grade', 'sub_grade', 'loan_status','purpose', 'term', 'verification_status']\n",
    "df_clean[columns] = df_clean[columns].astype(\"category\")"
   ]
  },
  {
   "cell_type": "markdown",
   "id": "0bb6ca1c-a0d2-4fac-828c-47f6ffeb332d",
   "metadata": {},
   "source": [
    "##### Test"
   ]
  },
  {
   "cell_type": "code",
   "execution_count": 34,
   "id": "0927e156-dc7f-42cb-a970-7a51a88b96f0",
   "metadata": {},
   "outputs": [
    {
     "name": "stdout",
     "output_type": "stream",
     "text": [
      "<class 'pandas.core.frame.DataFrame'>\n",
      "Index: 38577 entries, 0 to 39716\n",
      "Data columns (total 20 columns):\n",
      " #   Column                  Non-Null Count  Dtype         \n",
      "---  ------                  --------------  -----         \n",
      " 0   loan_amnt               38577 non-null  float64       \n",
      " 1   funded_amnt             38577 non-null  float64       \n",
      " 2   funded_amnt_inv         38577 non-null  float64       \n",
      " 3   term                    38577 non-null  category      \n",
      " 4   int_rate                38577 non-null  float64       \n",
      " 5   installment             38577 non-null  float64       \n",
      " 6   grade                   38577 non-null  category      \n",
      " 7   sub_grade               38577 non-null  category      \n",
      " 8   emp_length              37544 non-null  category      \n",
      " 9   home_ownership          38577 non-null  category      \n",
      " 10  annual_inc              38577 non-null  float64       \n",
      " 11  verification_status     38577 non-null  category      \n",
      " 12  issue_d                 38577 non-null  datetime64[ns]\n",
      " 13  loan_status             38577 non-null  category      \n",
      " 14  purpose                 38577 non-null  category      \n",
      " 15  addr_state              38577 non-null  object        \n",
      " 16  dti                     38577 non-null  float64       \n",
      " 17  mths_since_last_delinq  13672 non-null  float64       \n",
      " 18  mths_since_last_record  2740 non-null   float64       \n",
      " 19  pub_rec_bankruptcies    37880 non-null  float64       \n",
      "dtypes: category(8), datetime64[ns](1), float64(10), object(1)\n",
      "memory usage: 4.1+ MB\n"
     ]
    }
   ],
   "source": [
    "# Validating data types of date and rate columns\n",
    "df_clean.info()"
   ]
  },
  {
   "cell_type": "markdown",
   "id": "f3cb0df2-4d25-43a2-b9b0-572210c62a0a",
   "metadata": {},
   "source": [
    "##### Define"
   ]
  },
  {
   "cell_type": "markdown",
   "id": "731b1eb6-2dd7-40e6-95df-466a519bdaa6",
   "metadata": {},
   "source": [
    "> 12) Breakdown the date column into smaller metrics like : years and months"
   ]
  },
  {
   "cell_type": "markdown",
   "id": "d0e6160a-7060-44f3-a890-cb4968750d8b",
   "metadata": {},
   "source": [
    "##### Code"
   ]
  },
  {
   "cell_type": "code",
   "execution_count": 35,
   "id": "52039549-76b8-4033-b015-60a869632681",
   "metadata": {},
   "outputs": [],
   "source": [
    "#Breaking down the date column into smaller metrics like : years and months\n",
    "\n",
    "df_clean['issue_d_year'] = df_clean['issue_d'].dt.year\n",
    "df_clean['issue_d_month'] = df_clean['issue_d'].dt.month_name()\n",
    "# df_clean.drop('issue_d', axis=1, inplace=True)\n",
    "\n",
    "#Update the data_dictionary by removing the issue_d \n",
    "# data_dictionary = data_dictionary[data_dictionary.LoanStatNew.isin(['issue_d']) == False].reset_index(drop=True)"
   ]
  },
  {
   "cell_type": "markdown",
   "id": "e580d674-6f70-41f2-9a9d-cbcc64b3ff5c",
   "metadata": {},
   "source": [
    "##### Test"
   ]
  },
  {
   "cell_type": "code",
   "execution_count": 36,
   "id": "0c7f41d0-9ec2-47a5-a33d-b6defdfa0198",
   "metadata": {},
   "outputs": [
    {
     "data": {
      "text/html": [
       "<div>\n",
       "<style scoped>\n",
       "    .dataframe tbody tr th:only-of-type {\n",
       "        vertical-align: middle;\n",
       "    }\n",
       "\n",
       "    .dataframe tbody tr th {\n",
       "        vertical-align: top;\n",
       "    }\n",
       "\n",
       "    .dataframe thead th {\n",
       "        text-align: right;\n",
       "    }\n",
       "</style>\n",
       "<table border=\"1\" class=\"dataframe\">\n",
       "  <thead>\n",
       "    <tr style=\"text-align: right;\">\n",
       "      <th></th>\n",
       "      <th>issue_d_year</th>\n",
       "      <th>issue_d_month</th>\n",
       "    </tr>\n",
       "  </thead>\n",
       "  <tbody>\n",
       "    <tr>\n",
       "      <th>0</th>\n",
       "      <td>2011</td>\n",
       "      <td>December</td>\n",
       "    </tr>\n",
       "    <tr>\n",
       "      <th>1</th>\n",
       "      <td>2011</td>\n",
       "      <td>December</td>\n",
       "    </tr>\n",
       "    <tr>\n",
       "      <th>2</th>\n",
       "      <td>2011</td>\n",
       "      <td>December</td>\n",
       "    </tr>\n",
       "    <tr>\n",
       "      <th>3</th>\n",
       "      <td>2011</td>\n",
       "      <td>December</td>\n",
       "    </tr>\n",
       "    <tr>\n",
       "      <th>5</th>\n",
       "      <td>2011</td>\n",
       "      <td>December</td>\n",
       "    </tr>\n",
       "  </tbody>\n",
       "</table>\n",
       "</div>"
      ],
      "text/plain": [
       "   issue_d_year issue_d_month\n",
       "0          2011      December\n",
       "1          2011      December\n",
       "2          2011      December\n",
       "3          2011      December\n",
       "5          2011      December"
      ]
     },
     "execution_count": 36,
     "metadata": {},
     "output_type": "execute_result"
    }
   ],
   "source": [
    "#Validating the smaller metrics like : years and months of a date column\n",
    "df_clean[['issue_d_year','issue_d_month']].head()"
   ]
  },
  {
   "cell_type": "markdown",
   "id": "e02cca62-bef1-4747-a619-3112658cbae6",
   "metadata": {},
   "source": [
    "##### Define"
   ]
  },
  {
   "cell_type": "markdown",
   "id": "cef116e2-06ca-42f3-9059-011ad01cfe99",
   "metadata": {},
   "source": [
    "> 13) Handle the missing values: imputing/ deleting."
   ]
  },
  {
   "cell_type": "markdown",
   "id": "c7c6636e-eb01-4306-af64-581b05f8676d",
   "metadata": {},
   "source": [
    "##### Code"
   ]
  },
  {
   "cell_type": "code",
   "execution_count": 37,
   "id": "422b3945-23a0-4c56-b049-8db42b9af078",
   "metadata": {},
   "outputs": [
    {
     "data": {
      "text/plain": [
       "mths_since_last_record    90.23\n",
       "mths_since_last_delinq    62.71\n",
       "emp_length                 2.60\n",
       "pub_rec_bankruptcies       1.75\n",
       "loan_amnt                  0.00\n",
       "issue_d                    0.00\n",
       "issue_d_year               0.00\n",
       "dti                        0.00\n",
       "addr_state                 0.00\n",
       "purpose                    0.00\n",
       "loan_status                0.00\n",
       "verification_status        0.00\n",
       "funded_amnt                0.00\n",
       "annual_inc                 0.00\n",
       "home_ownership             0.00\n",
       "sub_grade                  0.00\n",
       "grade                      0.00\n",
       "installment                0.00\n",
       "int_rate                   0.00\n",
       "term                       0.00\n",
       "funded_amnt_inv            0.00\n",
       "issue_d_month              0.00\n",
       "dtype: float64"
      ]
     },
     "execution_count": 37,
     "metadata": {},
     "output_type": "execute_result"
    }
   ],
   "source": [
    "# Columns having NULL/NaN values \n",
    "round(df_clean.isnull().sum().sort_values(ascending=False)/len(df)*100,2)"
   ]
  },
  {
   "cell_type": "code",
   "execution_count": 38,
   "id": "0407c169-71e6-4041-95df-5fb6fc315e5a",
   "metadata": {},
   "outputs": [],
   "source": [
    "# Columns mths_since_last_record and mths_since_last_delinq can be dropped as more than 60% of the data is NULL/ NaN\n",
    "drop_cols = ['mths_since_last_record','mths_since_last_delinq']\n",
    "df_clean = df_clean.drop(drop_cols, axis=1)\n",
    "\n",
    "#Update the data_dictionary by removing the drop_cols \n",
    "data_dictionary = data_dictionary[data_dictionary.LoanStatNew.isin(drop_cols) == False].reset_index(drop=True)"
   ]
  },
  {
   "cell_type": "code",
   "execution_count": 39,
   "id": "fb5b6d7a-8892-4d35-b62d-0d802c35cc97",
   "metadata": {},
   "outputs": [
    {
     "name": "stdout",
     "output_type": "stream",
     "text": [
      "emp_length\n",
      "10     21.37\n",
      "0      11.35\n",
      "2      10.80\n",
      "3      10.10\n",
      "4       8.41\n",
      "5       8.04\n",
      "1       7.98\n",
      "6       5.46\n",
      "7       4.31\n",
      "8       3.61\n",
      "9       3.09\n",
      "Name: count, dtype: float64\n",
      "\n",
      "Mode value for emp_length :  10 \n"
     ]
    }
   ],
   "source": [
    "# Handling missing values for emp_length\n",
    "print(round(df_clean.emp_length.value_counts()/len(df)*100,2))\n",
    "\n",
    "mode_value = df_clean.emp_length.mode()[0]\n",
    "print(\"\\nMode value for emp_length : \", mode_value)\n",
    "\n",
    "# Imputing the NULL/ NaN values with mode value for emp_length\n",
    "df_clean.emp_length.fillna(mode_value, inplace=True)"
   ]
  },
  {
   "cell_type": "code",
   "execution_count": 40,
   "id": "e82a13a6-ea39-404c-8634-b2c2ec0e7699",
   "metadata": {},
   "outputs": [
    {
     "name": "stdout",
     "output_type": "stream",
     "text": [
      "pub_rec_bankruptcies\n",
      "0.0    91.24\n",
      "1.0     4.12\n",
      "2.0     0.01\n",
      "Name: count, dtype: float64\n",
      "\n",
      "Mode value for pub_rec_bankruptcies :  0.0\n"
     ]
    }
   ],
   "source": [
    "# Handling missing values for pub_rec_bankruptcies\n",
    "print(round(df_clean.pub_rec_bankruptcies.value_counts()/len(df)*100,2))\n",
    "\n",
    "mode_value = df_clean.pub_rec_bankruptcies.mode()[0]\n",
    "print(\"\\nMode value for pub_rec_bankruptcies : \", mode_value)\n",
    "\n",
    "#More than 90% of the records have pub_rec_bankruptcies as 0.0. Hence imputing the value with 0.0\n",
    "df_clean.pub_rec_bankruptcies.fillna(mode_value, inplace=True)"
   ]
  },
  {
   "cell_type": "markdown",
   "id": "8542eb4a-8736-44c7-ad1d-3f9ca8c05d54",
   "metadata": {},
   "source": [
    "##### Test"
   ]
  },
  {
   "cell_type": "code",
   "execution_count": 41,
   "id": "6bc2e3b4-8d47-45f5-8289-20525f505a8d",
   "metadata": {},
   "outputs": [
    {
     "data": {
      "text/plain": [
       "loan_amnt               0\n",
       "funded_amnt             0\n",
       "funded_amnt_inv         0\n",
       "term                    0\n",
       "int_rate                0\n",
       "installment             0\n",
       "grade                   0\n",
       "sub_grade               0\n",
       "emp_length              0\n",
       "home_ownership          0\n",
       "annual_inc              0\n",
       "verification_status     0\n",
       "issue_d                 0\n",
       "loan_status             0\n",
       "purpose                 0\n",
       "addr_state              0\n",
       "dti                     0\n",
       "pub_rec_bankruptcies    0\n",
       "issue_d_year            0\n",
       "issue_d_month           0\n",
       "dtype: int64"
      ]
     },
     "execution_count": 41,
     "metadata": {},
     "output_type": "execute_result"
    }
   ],
   "source": [
    "# Validating the handling of missing values\n",
    "df_clean.isnull().sum()"
   ]
  },
  {
   "cell_type": "code",
   "execution_count": 42,
   "id": "030d8ddb-613a-4c75-a694-8feff6407f22",
   "metadata": {},
   "outputs": [
    {
     "data": {
      "text/html": [
       "<div>\n",
       "<style scoped>\n",
       "    .dataframe tbody tr th:only-of-type {\n",
       "        vertical-align: middle;\n",
       "    }\n",
       "\n",
       "    .dataframe tbody tr th {\n",
       "        vertical-align: top;\n",
       "    }\n",
       "\n",
       "    .dataframe thead th {\n",
       "        text-align: right;\n",
       "    }\n",
       "</style>\n",
       "<table border=\"1\" class=\"dataframe\">\n",
       "  <thead>\n",
       "    <tr style=\"text-align: right;\">\n",
       "      <th></th>\n",
       "      <th>loan_amnt</th>\n",
       "      <th>funded_amnt</th>\n",
       "      <th>funded_amnt_inv</th>\n",
       "      <th>term</th>\n",
       "      <th>int_rate</th>\n",
       "      <th>installment</th>\n",
       "      <th>grade</th>\n",
       "      <th>sub_grade</th>\n",
       "      <th>emp_length</th>\n",
       "      <th>home_ownership</th>\n",
       "      <th>annual_inc</th>\n",
       "      <th>verification_status</th>\n",
       "      <th>issue_d</th>\n",
       "      <th>loan_status</th>\n",
       "      <th>purpose</th>\n",
       "      <th>addr_state</th>\n",
       "      <th>dti</th>\n",
       "      <th>pub_rec_bankruptcies</th>\n",
       "      <th>issue_d_year</th>\n",
       "      <th>issue_d_month</th>\n",
       "    </tr>\n",
       "  </thead>\n",
       "  <tbody>\n",
       "    <tr>\n",
       "      <th>0</th>\n",
       "      <td>5000.0</td>\n",
       "      <td>5000.0</td>\n",
       "      <td>4975.0</td>\n",
       "      <td>36 months</td>\n",
       "      <td>10.65</td>\n",
       "      <td>162.87</td>\n",
       "      <td>B</td>\n",
       "      <td>B2</td>\n",
       "      <td>10</td>\n",
       "      <td>RENT</td>\n",
       "      <td>24000.0</td>\n",
       "      <td>Verified</td>\n",
       "      <td>2011-12-01</td>\n",
       "      <td>Fully Paid</td>\n",
       "      <td>credit_card</td>\n",
       "      <td>AZ</td>\n",
       "      <td>27.65</td>\n",
       "      <td>0.0</td>\n",
       "      <td>2011</td>\n",
       "      <td>December</td>\n",
       "    </tr>\n",
       "    <tr>\n",
       "      <th>1</th>\n",
       "      <td>2500.0</td>\n",
       "      <td>2500.0</td>\n",
       "      <td>2500.0</td>\n",
       "      <td>60 months</td>\n",
       "      <td>15.27</td>\n",
       "      <td>59.83</td>\n",
       "      <td>C</td>\n",
       "      <td>C4</td>\n",
       "      <td>0</td>\n",
       "      <td>RENT</td>\n",
       "      <td>30000.0</td>\n",
       "      <td>Source Verified</td>\n",
       "      <td>2011-12-01</td>\n",
       "      <td>Charged Off</td>\n",
       "      <td>car</td>\n",
       "      <td>GA</td>\n",
       "      <td>1.00</td>\n",
       "      <td>0.0</td>\n",
       "      <td>2011</td>\n",
       "      <td>December</td>\n",
       "    </tr>\n",
       "    <tr>\n",
       "      <th>2</th>\n",
       "      <td>2400.0</td>\n",
       "      <td>2400.0</td>\n",
       "      <td>2400.0</td>\n",
       "      <td>36 months</td>\n",
       "      <td>15.96</td>\n",
       "      <td>84.33</td>\n",
       "      <td>C</td>\n",
       "      <td>C5</td>\n",
       "      <td>10</td>\n",
       "      <td>RENT</td>\n",
       "      <td>12252.0</td>\n",
       "      <td>Not Verified</td>\n",
       "      <td>2011-12-01</td>\n",
       "      <td>Fully Paid</td>\n",
       "      <td>small_business</td>\n",
       "      <td>IL</td>\n",
       "      <td>8.72</td>\n",
       "      <td>0.0</td>\n",
       "      <td>2011</td>\n",
       "      <td>December</td>\n",
       "    </tr>\n",
       "    <tr>\n",
       "      <th>3</th>\n",
       "      <td>10000.0</td>\n",
       "      <td>10000.0</td>\n",
       "      <td>10000.0</td>\n",
       "      <td>36 months</td>\n",
       "      <td>13.49</td>\n",
       "      <td>339.31</td>\n",
       "      <td>C</td>\n",
       "      <td>C1</td>\n",
       "      <td>10</td>\n",
       "      <td>RENT</td>\n",
       "      <td>49200.0</td>\n",
       "      <td>Source Verified</td>\n",
       "      <td>2011-12-01</td>\n",
       "      <td>Fully Paid</td>\n",
       "      <td>other</td>\n",
       "      <td>CA</td>\n",
       "      <td>20.00</td>\n",
       "      <td>0.0</td>\n",
       "      <td>2011</td>\n",
       "      <td>December</td>\n",
       "    </tr>\n",
       "    <tr>\n",
       "      <th>5</th>\n",
       "      <td>5000.0</td>\n",
       "      <td>5000.0</td>\n",
       "      <td>5000.0</td>\n",
       "      <td>36 months</td>\n",
       "      <td>7.90</td>\n",
       "      <td>156.46</td>\n",
       "      <td>A</td>\n",
       "      <td>A4</td>\n",
       "      <td>3</td>\n",
       "      <td>RENT</td>\n",
       "      <td>36000.0</td>\n",
       "      <td>Source Verified</td>\n",
       "      <td>2011-12-01</td>\n",
       "      <td>Fully Paid</td>\n",
       "      <td>wedding</td>\n",
       "      <td>AZ</td>\n",
       "      <td>11.20</td>\n",
       "      <td>0.0</td>\n",
       "      <td>2011</td>\n",
       "      <td>December</td>\n",
       "    </tr>\n",
       "  </tbody>\n",
       "</table>\n",
       "</div>"
      ],
      "text/plain": [
       "   loan_amnt  funded_amnt  funded_amnt_inv        term  int_rate  installment  \\\n",
       "0     5000.0       5000.0           4975.0   36 months     10.65       162.87   \n",
       "1     2500.0       2500.0           2500.0   60 months     15.27        59.83   \n",
       "2     2400.0       2400.0           2400.0   36 months     15.96        84.33   \n",
       "3    10000.0      10000.0          10000.0   36 months     13.49       339.31   \n",
       "5     5000.0       5000.0           5000.0   36 months      7.90       156.46   \n",
       "\n",
       "  grade sub_grade emp_length home_ownership  annual_inc verification_status  \\\n",
       "0     B        B2        10            RENT     24000.0            Verified   \n",
       "1     C        C4         0            RENT     30000.0     Source Verified   \n",
       "2     C        C5        10            RENT     12252.0        Not Verified   \n",
       "3     C        C1        10            RENT     49200.0     Source Verified   \n",
       "5     A        A4         3            RENT     36000.0     Source Verified   \n",
       "\n",
       "     issue_d  loan_status         purpose addr_state    dti  \\\n",
       "0 2011-12-01   Fully Paid     credit_card         AZ  27.65   \n",
       "1 2011-12-01  Charged Off             car         GA   1.00   \n",
       "2 2011-12-01   Fully Paid  small_business         IL   8.72   \n",
       "3 2011-12-01   Fully Paid           other         CA  20.00   \n",
       "5 2011-12-01   Fully Paid         wedding         AZ  11.20   \n",
       "\n",
       "   pub_rec_bankruptcies  issue_d_year issue_d_month  \n",
       "0                   0.0          2011      December  \n",
       "1                   0.0          2011      December  \n",
       "2                   0.0          2011      December  \n",
       "3                   0.0          2011      December  \n",
       "5                   0.0          2011      December  "
      ]
     },
     "execution_count": 42,
     "metadata": {},
     "output_type": "execute_result"
    }
   ],
   "source": [
    "df_clean.head()"
   ]
  },
  {
   "cell_type": "code",
   "execution_count": 43,
   "id": "2e9fd36e-289f-4ca4-89c3-54de5bda494d",
   "metadata": {},
   "outputs": [
    {
     "name": "stdout",
     "output_type": "stream",
     "text": [
      "<class 'pandas.core.frame.DataFrame'>\n",
      "Index: 38577 entries, 0 to 39716\n",
      "Data columns (total 20 columns):\n",
      " #   Column                Non-Null Count  Dtype         \n",
      "---  ------                --------------  -----         \n",
      " 0   loan_amnt             38577 non-null  float64       \n",
      " 1   funded_amnt           38577 non-null  float64       \n",
      " 2   funded_amnt_inv       38577 non-null  float64       \n",
      " 3   term                  38577 non-null  category      \n",
      " 4   int_rate              38577 non-null  float64       \n",
      " 5   installment           38577 non-null  float64       \n",
      " 6   grade                 38577 non-null  category      \n",
      " 7   sub_grade             38577 non-null  category      \n",
      " 8   emp_length            38577 non-null  category      \n",
      " 9   home_ownership        38577 non-null  category      \n",
      " 10  annual_inc            38577 non-null  float64       \n",
      " 11  verification_status   38577 non-null  category      \n",
      " 12  issue_d               38577 non-null  datetime64[ns]\n",
      " 13  loan_status           38577 non-null  category      \n",
      " 14  purpose               38577 non-null  category      \n",
      " 15  addr_state            38577 non-null  object        \n",
      " 16  dti                   38577 non-null  float64       \n",
      " 17  pub_rec_bankruptcies  38577 non-null  float64       \n",
      " 18  issue_d_year          38577 non-null  int32         \n",
      " 19  issue_d_month         38577 non-null  object        \n",
      "dtypes: category(8), datetime64[ns](1), float64(8), int32(1), object(2)\n",
      "memory usage: 4.0+ MB\n"
     ]
    }
   ],
   "source": [
    "df_clean.info()"
   ]
  },
  {
   "cell_type": "code",
   "execution_count": 44,
   "id": "41a1f76c-4043-42c9-b92e-8bcc9a43f952",
   "metadata": {},
   "outputs": [
    {
     "data": {
      "text/html": [
       "<div>\n",
       "<style scoped>\n",
       "    .dataframe tbody tr th:only-of-type {\n",
       "        vertical-align: middle;\n",
       "    }\n",
       "\n",
       "    .dataframe tbody tr th {\n",
       "        vertical-align: top;\n",
       "    }\n",
       "\n",
       "    .dataframe thead th {\n",
       "        text-align: right;\n",
       "    }\n",
       "</style>\n",
       "<table border=\"1\" class=\"dataframe\">\n",
       "  <thead>\n",
       "    <tr style=\"text-align: right;\">\n",
       "      <th></th>\n",
       "      <th>LoanStatNew</th>\n",
       "      <th>Description</th>\n",
       "    </tr>\n",
       "  </thead>\n",
       "  <tbody>\n",
       "    <tr>\n",
       "      <th>0</th>\n",
       "      <td>addr_state</td>\n",
       "      <td>The state provided by the borrower in the loan application</td>\n",
       "    </tr>\n",
       "    <tr>\n",
       "      <th>1</th>\n",
       "      <td>annual_inc</td>\n",
       "      <td>The self-reported annual income provided by the borrower during registration.</td>\n",
       "    </tr>\n",
       "    <tr>\n",
       "      <th>2</th>\n",
       "      <td>dti</td>\n",
       "      <td>A ratio calculated using the borrower’s total monthly debt payments on the total debt obligations, excluding mortgage and the requested LC loan, divided by the borrower’s self-reported monthly income.</td>\n",
       "    </tr>\n",
       "    <tr>\n",
       "      <th>3</th>\n",
       "      <td>emp_length</td>\n",
       "      <td>Employment length in years. Possible values are between 0 and 10 where 0 means less than one year and 10 means ten or more years.</td>\n",
       "    </tr>\n",
       "    <tr>\n",
       "      <th>4</th>\n",
       "      <td>funded_amnt</td>\n",
       "      <td>The total amount committed to that loan at that point in time.</td>\n",
       "    </tr>\n",
       "    <tr>\n",
       "      <th>5</th>\n",
       "      <td>funded_amnt_inv</td>\n",
       "      <td>The total amount committed by investors for that loan at that point in time.</td>\n",
       "    </tr>\n",
       "    <tr>\n",
       "      <th>6</th>\n",
       "      <td>grade</td>\n",
       "      <td>LC assigned loan grade</td>\n",
       "    </tr>\n",
       "    <tr>\n",
       "      <th>7</th>\n",
       "      <td>home_ownership</td>\n",
       "      <td>The home ownership status provided by the borrower during registration. Our values are: RENT, OWN, MORTGAGE, OTHER.</td>\n",
       "    </tr>\n",
       "    <tr>\n",
       "      <th>8</th>\n",
       "      <td>installment</td>\n",
       "      <td>The monthly payment owed by the borrower if the loan originates.</td>\n",
       "    </tr>\n",
       "    <tr>\n",
       "      <th>9</th>\n",
       "      <td>int_rate</td>\n",
       "      <td>Interest Rate on the loan</td>\n",
       "    </tr>\n",
       "    <tr>\n",
       "      <th>10</th>\n",
       "      <td>issue_d</td>\n",
       "      <td>The month which the loan was funded</td>\n",
       "    </tr>\n",
       "    <tr>\n",
       "      <th>11</th>\n",
       "      <td>loan_amnt</td>\n",
       "      <td>The listed amount of the loan applied for by the borrower. If at some point in time, the credit department reduces the loan amount, then it will be reflected in this value.</td>\n",
       "    </tr>\n",
       "    <tr>\n",
       "      <th>12</th>\n",
       "      <td>loan_status</td>\n",
       "      <td>Current status of the loan</td>\n",
       "    </tr>\n",
       "    <tr>\n",
       "      <th>13</th>\n",
       "      <td>pub_rec_bankruptcies</td>\n",
       "      <td>Number of public record bankruptcies</td>\n",
       "    </tr>\n",
       "    <tr>\n",
       "      <th>14</th>\n",
       "      <td>purpose</td>\n",
       "      <td>A category provided by the borrower for the loan request.</td>\n",
       "    </tr>\n",
       "    <tr>\n",
       "      <th>15</th>\n",
       "      <td>sub_grade</td>\n",
       "      <td>LC assigned loan subgrade</td>\n",
       "    </tr>\n",
       "    <tr>\n",
       "      <th>16</th>\n",
       "      <td>term</td>\n",
       "      <td>The number of payments on the loan. Values are in months and can be either 36 or 60.</td>\n",
       "    </tr>\n",
       "    <tr>\n",
       "      <th>17</th>\n",
       "      <td>verification_status</td>\n",
       "      <td>Indicates if income was verified by LC, not verified, or if the income source was verified</td>\n",
       "    </tr>\n",
       "  </tbody>\n",
       "</table>\n",
       "</div>"
      ],
      "text/plain": [
       "             LoanStatNew  \\\n",
       "0             addr_state   \n",
       "1             annual_inc   \n",
       "2                    dti   \n",
       "3             emp_length   \n",
       "4            funded_amnt   \n",
       "5        funded_amnt_inv   \n",
       "6                  grade   \n",
       "7         home_ownership   \n",
       "8            installment   \n",
       "9               int_rate   \n",
       "10               issue_d   \n",
       "11             loan_amnt   \n",
       "12           loan_status   \n",
       "13  pub_rec_bankruptcies   \n",
       "14               purpose   \n",
       "15             sub_grade   \n",
       "16                  term   \n",
       "17   verification_status   \n",
       "\n",
       "                                                                                                                                                                                                 Description  \n",
       "0                                                                                                                                                 The state provided by the borrower in the loan application  \n",
       "1                                                                                                                              The self-reported annual income provided by the borrower during registration.  \n",
       "2   A ratio calculated using the borrower’s total monthly debt payments on the total debt obligations, excluding mortgage and the requested LC loan, divided by the borrower’s self-reported monthly income.  \n",
       "3                                                                         Employment length in years. Possible values are between 0 and 10 where 0 means less than one year and 10 means ten or more years.   \n",
       "4                                                                                                                                             The total amount committed to that loan at that point in time.  \n",
       "5                                                                                                                               The total amount committed by investors for that loan at that point in time.  \n",
       "6                                                                                                                                                                                     LC assigned loan grade  \n",
       "7                                                                                        The home ownership status provided by the borrower during registration. Our values are: RENT, OWN, MORTGAGE, OTHER.  \n",
       "8                                                                                                                                           The monthly payment owed by the borrower if the loan originates.  \n",
       "9                                                                                                                                                                                  Interest Rate on the loan  \n",
       "10                                                                                                                                                                       The month which the loan was funded  \n",
       "11                              The listed amount of the loan applied for by the borrower. If at some point in time, the credit department reduces the loan amount, then it will be reflected in this value.  \n",
       "12                                                                                                                                                                                Current status of the loan  \n",
       "13                                                                                                                                                                      Number of public record bankruptcies  \n",
       "14                                                                                                                                                A category provided by the borrower for the loan request.   \n",
       "15                                                                                                                                                                                 LC assigned loan subgrade  \n",
       "16                                                                                                                      The number of payments on the loan. Values are in months and can be either 36 or 60.  \n",
       "17                                                                                                                Indicates if income was verified by LC, not verified, or if the income source was verified  "
      ]
     },
     "execution_count": 44,
     "metadata": {},
     "output_type": "execute_result"
    }
   ],
   "source": [
    "data_dictionary"
   ]
  },
  {
   "cell_type": "markdown",
   "id": "cdb1b933-480f-4728-bd10-9c84a010b1fb",
   "metadata": {},
   "source": [
    "##### Define"
   ]
  },
  {
   "cell_type": "markdown",
   "id": "d2f9cdfc-b6e3-47b1-af85-0e36ca533fae",
   "metadata": {},
   "source": [
    "> 13) Renaming the abbrevated column : dti"
   ]
  },
  {
   "cell_type": "markdown",
   "id": "cb23723e-1c04-4ebe-a4e8-926699be2bfe",
   "metadata": {},
   "source": [
    "##### Code"
   ]
  },
  {
   "cell_type": "code",
   "execution_count": 45,
   "id": "33465638-79c3-4a83-a39b-0326abbdd0ee",
   "metadata": {},
   "outputs": [],
   "source": [
    "# Renaming the dti to debt_to_income\n",
    "new_mapping = {'dti': 'debt_to_income'}\n",
    "                        \n",
    "df_clean = df_clean.rename(columns=new_mapping)"
   ]
  },
  {
   "cell_type": "markdown",
   "id": "b683c62c-6e2c-425a-b182-1a0a7ffe0163",
   "metadata": {},
   "source": [
    "##### Test"
   ]
  },
  {
   "cell_type": "code",
   "execution_count": 46,
   "id": "b8459708-f5b4-4506-81bf-d224d04408e5",
   "metadata": {},
   "outputs": [
    {
     "name": "stdout",
     "output_type": "stream",
     "text": [
      "<class 'pandas.core.frame.DataFrame'>\n",
      "Index: 38577 entries, 0 to 39716\n",
      "Data columns (total 20 columns):\n",
      " #   Column                Non-Null Count  Dtype         \n",
      "---  ------                --------------  -----         \n",
      " 0   loan_amnt             38577 non-null  float64       \n",
      " 1   funded_amnt           38577 non-null  float64       \n",
      " 2   funded_amnt_inv       38577 non-null  float64       \n",
      " 3   term                  38577 non-null  category      \n",
      " 4   int_rate              38577 non-null  float64       \n",
      " 5   installment           38577 non-null  float64       \n",
      " 6   grade                 38577 non-null  category      \n",
      " 7   sub_grade             38577 non-null  category      \n",
      " 8   emp_length            38577 non-null  category      \n",
      " 9   home_ownership        38577 non-null  category      \n",
      " 10  annual_inc            38577 non-null  float64       \n",
      " 11  verification_status   38577 non-null  category      \n",
      " 12  issue_d               38577 non-null  datetime64[ns]\n",
      " 13  loan_status           38577 non-null  category      \n",
      " 14  purpose               38577 non-null  category      \n",
      " 15  addr_state            38577 non-null  object        \n",
      " 16  debt_to_income        38577 non-null  float64       \n",
      " 17  pub_rec_bankruptcies  38577 non-null  float64       \n",
      " 18  issue_d_year          38577 non-null  int32         \n",
      " 19  issue_d_month         38577 non-null  object        \n",
      "dtypes: category(8), datetime64[ns](1), float64(8), int32(1), object(2)\n",
      "memory usage: 4.0+ MB\n"
     ]
    }
   ],
   "source": [
    "df_clean.info()"
   ]
  },
  {
   "cell_type": "markdown",
   "id": "196b520a-fdf5-48fb-84bb-30d00dd4b6df",
   "metadata": {},
   "source": [
    "##### Define"
   ]
  },
  {
   "cell_type": "markdown",
   "id": "7ff499e6-a06a-4334-9076-467786d07a1f",
   "metadata": {},
   "source": [
    "> 14) Indetifying and Handling the outliers/extreme values."
   ]
  },
  {
   "cell_type": "markdown",
   "id": "5bc8dbed-e348-49d1-91fb-591534854775",
   "metadata": {},
   "source": [
    "##### Code"
   ]
  },
  {
   "cell_type": "code",
   "execution_count": 64,
   "id": "0b2db528-9a9b-4766-abeb-d313f4f2af48",
   "metadata": {},
   "outputs": [],
   "source": [
    "# Treating outliers\n",
    "\n",
    "def outlier_plot(dataframe, column_list): \n",
    "    \"\"\"\n",
    "    Plots boxplots to examine outliers in the specified columns of the given dataframe.\n",
    "\n",
    "    Parameters:\n",
    "    dataframe (DataFrame): The pandas DataFrame containing the data.\n",
    "    column_list (list): A list of column names to examine for outliers.\n",
    "\n",
    "    Returns:\n",
    "    None\n",
    "    \"\"\"\n",
    "    for index, value in enumerate(column_list): \n",
    "        title_name = f\"Outlier Examination for {value} column\"    \n",
    "        plt.subplot(2, 3, index+1)\n",
    "        plt.subplots_adjust(hspace = .4, wspace = .4)\n",
    "        plt.title(title_name, fontsize=7)  \n",
    "        dataframe[value].plot(figsize=(16,8), kind='box')"
   ]
  },
  {
   "cell_type": "code",
   "execution_count": 48,
   "id": "06f4c77e-9ae7-449c-9cff-a517ea844b04",
   "metadata": {},
   "outputs": [
    {
     "data": {
      "image/png": "[encoded data removed]",
      "text/plain": [
       "<Figure size 1600x800 with 5 Axes>"
      ]
     },
     "metadata": {},
     "output_type": "display_data"
    },
    {
     "data": {
      "text/plain": [
       "<Figure size 640x480 with 0 Axes>"
      ]
     },
     "metadata": {},
     "output_type": "display_data"
    }
   ],
   "source": [
    "cols = ['loan_amnt', 'funded_amnt','funded_amnt_inv','installment','annual_inc']\n",
    "outlier_plot(df_clean, cols)\n",
    "plt.show()\n",
    "plt.tight_layout()"
   ]
  },
  {
   "cell_type": "code",
   "execution_count": 49,
   "id": "b6608bb2-52d7-4867-8d0c-0b08cc6d25a7",
   "metadata": {},
   "outputs": [],
   "source": [
    "# Setting the upper quartile to 80% as most outliers lay outside the 80% range. \n",
    "Q1 = df_clean[cols].quantile(0.05)\n",
    "Q3 = df_clean[cols].quantile(0.80)\n",
    "IQR = Q3 - Q1\n",
    "\n",
    "df_clean = df_clean[~((df_clean[cols] < (Q1 - 1.5 * IQR)) | (df_clean[cols] > (Q3 + 1.5 * IQR))).any(axis=1)]"
   ]
  },
  {
   "cell_type": "markdown",
   "id": "f7cafa47-351d-467e-90d4-a962f7202b2a",
   "metadata": {},
   "source": [
    "##### Test"
   ]
  },
  {
   "cell_type": "code",
   "execution_count": 50,
   "id": "f02c0cea-16e6-409d-9c75-a051e7c77328",
   "metadata": {},
   "outputs": [
    {
     "data": {
      "text/plain": [
       "(37485, 20)"
      ]
     },
     "execution_count": 50,
     "metadata": {},
     "output_type": "execute_result"
    },
    {
     "data": {
      "image/png": "[encoded data removed]",
      "text/plain": [
       "<Figure size 1600x800 with 5 Axes>"
      ]
     },
     "metadata": {},
     "output_type": "display_data"
    }
   ],
   "source": [
    "outlier_plot(df_clean, cols)\n",
    "df_clean.shape"
   ]
  },
  {
   "cell_type": "markdown",
   "id": "47377822-1138-4e6b-be67-02d292fa75f0",
   "metadata": {},
   "source": [
    "### Below is the segregation of Customer and Loan attributes post Data Assessment and Cleaning"
   ]
  },
  {
   "cell_type": "markdown",
   "id": "19a458b4-f00f-48cc-b6af-df8d2d1b0a95",
   "metadata": {},
   "source": [
    "\n",
    "__Customer Attributes__ : \n",
    "> * addr_state : String Variable\n",
    "> * annual_inc : Float Variable\n",
    "> * debt_to_income (dti) : Float Variable\n",
    "> * emp_length : Ordered Categorical Variable\n",
    "> * home_ownership : Unordered Categorical Variable\n",
    "\n",
    "\n",
    "__Loan Attributes__ : \n",
    "> * funded_amt : Float Variable\n",
    "> * funded_amt_inv : Float Variable\n",
    "> * grade : Ordered Categorical Variable\n",
    "> * int_rate : Float Variable\n",
    "> * issue_d : Created 2 derived columns : issue_d_month, issue_d_year \n",
    "> * loan_amnt: Float Variable\n",
    "> * loan_status : Unordered Categorical Variable\n",
    "> * purpose : Unordered Categorical Variable\n",
    "> * sub_grade : Ordered Categorical Variable\n",
    "> * term : Ordered Categorical Variable\n",
    "> * verification_status : Unordered Categorical Variable\n",
    "> * pub_rec_bankruptcies : Float Variable\n",
    "> * installment : Float Variable"
   ]
  },
  {
   "cell_type": "markdown",
   "id": "4ca4e458-0cb3-4841-a1a2-06736eda897d",
   "metadata": {},
   "source": [
    "# Univariate Exploration"
   ]
  },
  {
   "cell_type": "code",
   "execution_count": 51,
   "id": "b9bdcc9c-5a64-4280-b157-c6dc07920a4f",
   "metadata": {},
   "outputs": [],
   "source": [
    "def visualize_distributions(dataframe, col_name, binf=False, binr=None, discretef=None):\n",
    "    sns.set_style('darkgrid')\n",
    "    if binf:\n",
    "        plt.figure(figsize = (6, 5))\n",
    "        sns.histplot(x=dataframe[col_name],bins=binr,discrete=discretef)\n",
    "        plt.title(f'{col_name} distribution with bins')\n",
    "        plt.xlabel(f'{col_name}')\n",
    "        plt.ylabel('Frequency')\n",
    "        plt.xticks(rotation=90)\n",
    "    else:    \n",
    "        fig, ax = plt.subplots(1, 2, figsize=(12, 5))\n",
    "        sns.histplot(data=dataframe, x=col_name, ax=ax[0])\n",
    "        ax[0].tick_params(axis=\"x\", rotation=35)\n",
    "        sns.boxplot(data=dataframe, y=col_name, ax=ax[1])\n",
    "        ax[1].tick_params(axis=\"x\", rotation=35)\n",
    "\n",
    "    plt.tight_layout()\n",
    "    plt.show()"
   ]
  },
  {
   "cell_type": "code",
   "execution_count": 52,
   "id": "835024a8-008e-4f07-8895-7c50140652cb",
   "metadata": {},
   "outputs": [
    {
     "data": {
      "text/plain": [
       "count    37485.00\n",
       "mean     10678.59\n",
       "std       6884.88\n",
       "min        500.00\n",
       "25%       5000.00\n",
       "50%       9500.00\n",
       "75%      15000.00\n",
       "max      35000.00\n",
       "Name: loan_amnt, dtype: float64"
      ]
     },
     "execution_count": 52,
     "metadata": {},
     "output_type": "execute_result"
    }
   ],
   "source": [
    "# Analysing loan amount\n",
    "round(df_clean.loan_amnt.describe(),2)"
   ]
  },
  {
   "cell_type": "code",
   "execution_count": 53,
   "id": "bc469367-fbfb-42f5-9d31-1838a78de82d",
   "metadata": {},
   "outputs": [
    {
     "name": "stdout",
     "output_type": "stream",
     "text": [
      "Mode of loan amount : 10000.0\n"
     ]
    }
   ],
   "source": [
    "loan_amnt_mode = df_clean.loan_amnt.mode()[0]\n",
    "print(f\"Mode of loan amount : {loan_amnt_mode}\")"
   ]
  },
  {
   "cell_type": "code",
   "execution_count": 54,
   "id": "25ef3b97-efcf-4e0a-b960-5bd437ef9b51",
   "metadata": {},
   "outputs": [
    {
     "data": {
      "image/png": "[encoded data removed]",
      "text/plain": [
       "<Figure size 1200x500 with 2 Axes>"
      ]
     },
     "metadata": {},
     "output_type": "display_data"
    },
    {
     "data": {
      "image/png": "[encoded data removed]",
      "text/plain": [
       "<Figure size 600x500 with 1 Axes>"
      ]
     },
     "metadata": {},
     "output_type": "display_data"
    }
   ],
   "source": [
    "visualize_distributions(df_clean,'loan_amnt')\n",
    "loan_range = range(0, 30000, 5000)\n",
    "visualize_distributions(df_clean,'loan_amnt', True, loan_range)"
   ]
  },
  {
   "cell_type": "markdown",
   "id": "425c38bb-2c80-4df4-80c4-86116dee9825",
   "metadata": {},
   "source": [
    "##### __Observation__ : From the above distribution we can see that most of the loan application amount were between 5000-10000, followed by 0-5000 and then 10000-15000. However the mean for the loan amount is 10678 and the mode is 10000."
   ]
  },
  {
   "cell_type": "code",
   "execution_count": 55,
   "id": "41c27540-f75a-4c09-9569-61259c6ac662",
   "metadata": {},
   "outputs": [
    {
     "data": {
      "text/plain": [
       "count     37485.00\n",
       "mean      63517.38\n",
       "std       32070.75\n",
       "min        4000.00\n",
       "25%       40000.00\n",
       "50%       57000.00\n",
       "75%       80000.00\n",
       "max      189000.00\n",
       "Name: annual_inc, dtype: float64"
      ]
     },
     "execution_count": 55,
     "metadata": {},
     "output_type": "execute_result"
    }
   ],
   "source": [
    "# Analysing annual income\n",
    "round(df_clean.annual_inc.describe(),2)"
   ]
  },
  {
   "cell_type": "code",
   "execution_count": 56,
   "id": "1547796d-f386-46d8-ae72-2a0ca49b32a9",
   "metadata": {},
   "outputs": [
    {
     "name": "stdout",
     "output_type": "stream",
     "text": [
      "Mode of loan amount : 60000.0\n"
     ]
    }
   ],
   "source": [
    "annual_inc_mode = df_clean.annual_inc.mode()[0]\n",
    "print(f\"Mode of loan amount : {annual_inc_mode}\")"
   ]
  },
  {
   "cell_type": "code",
   "execution_count": 57,
   "id": "91002ca2-157d-491d-9b9a-d86f76f43b79",
   "metadata": {},
   "outputs": [
    {
     "data": {
      "image/png": "[encoded data removed]",
      "text/plain": [
       "<Figure size 1200x500 with 2 Axes>"
      ]
     },
     "metadata": {},
     "output_type": "display_data"
    },
    {
     "data": {
      "image/png": "[encoded data removed]",
      "text/plain": [
       "<Figure size 600x500 with 1 Axes>"
      ]
     },
     "metadata": {},
     "output_type": "display_data"
    }
   ],
   "source": [
    "visualize_distributions(df_clean,'annual_inc')\n",
    "annual_inc_range = range(0, 180000, 20000)\n",
    "visualize_distributions(df_clean,'annual_inc', True, annual_inc_range)"
   ]
  },
  {
   "cell_type": "markdown",
   "id": "c5c40a28-6b47-4e93-8e01-ef0e3fc6c421",
   "metadata": {},
   "source": [
    "##### __Observation__ : From the above distribution we can see that most of the loan application where from customers whose annual income lies between 30000-60000. The mean of annual income of the customers is 63517 and the mode is 60000."
   ]
  },
  {
   "cell_type": "code",
   "execution_count": 58,
   "id": "a08ce791-bb00-4436-896f-72acf0477823",
   "metadata": {},
   "outputs": [
    {
     "name": "stdout",
     "output_type": "stream",
     "text": [
      "issue_d_month\n",
      "December     4101\n",
      "November     3876\n",
      "October      3613\n",
      "September    3390\n",
      "August       3285\n",
      "July         3272\n",
      "June         3093\n",
      "May          2848\n",
      "April        2749\n",
      "March        2621\n",
      "January      2332\n",
      "February     2305\n",
      "Name: count, dtype: int64\n"
     ]
    },
    {
     "data": {
      "image/png": "[encoded data removed]",
      "text/plain": [
       "<Figure size 600x500 with 1 Axes>"
      ]
     },
     "metadata": {},
     "output_type": "display_data"
    }
   ],
   "source": [
    "# Analysing issue_d_month\n",
    "print(df_clean.issue_d_month.value_counts())\n",
    "issue_d_month_range = df_clean.issue_d_month.unique().tolist()\n",
    "visualize_distributions(df_clean,'issue_d_month',True, issue_d_month_range)"
   ]
  },
  {
   "cell_type": "code",
   "execution_count": 59,
   "id": "5d51530d-c0df-4484-9711-eb442f347534",
   "metadata": {},
   "outputs": [
    {
     "name": "stdout",
     "output_type": "stream",
     "text": [
      "issue_d_year\n",
      "2011    19775\n",
      "2010    11318\n",
      "2009     4614\n",
      "2008     1538\n",
      "2007      240\n",
      "Name: count, dtype: int64\n"
     ]
    },
    {
     "data": {
      "image/png": "[encoded data removed]",
      "text/plain": [
       "<Figure size 600x500 with 1 Axes>"
      ]
     },
     "metadata": {},
     "output_type": "display_data"
    }
   ],
   "source": [
    "# Analysing issue_d_year\n",
    "print(df_clean.issue_d_year.value_counts())\n",
    "issue_d_year_range = sorted(df_clean.issue_d_year.unique().tolist())\n",
    "visualize_distributions(df_clean,'issue_d_year',True, issue_d_year_range, discretef=True)"
   ]
  },
  {
   "cell_type": "code",
   "execution_count": 60,
   "id": "d4b24f13-1286-463f-9949-b4b4b68f585c",
   "metadata": {},
   "outputs": [],
   "source": [
    "# Analysing of categorical columns\n",
    "\n",
    "def countplots(dataframe, index, col_name):\n",
    "    print(f\"\\n{index+1}. Plotting for {col_name}\")\n",
    "    sns.set_style('darkgrid')\n",
    "    ax = sns.countplot(x=dataframe[col_name])\n",
    "    ax.bar_label(ax.containers[0])\n",
    "    plt.title(f'Distribution of {col_name}')\n",
    "    plt.xticks(rotation=90)\n",
    "    plt.show()\n",
    "    print(f\" Note : For data available in \\\"loan.csv\\\" dataset, the histroical loans are mostly for {col_name} of {dataframe[col_name].mode()[0]}\")"
   ]
  },
  {
   "cell_type": "code",
   "execution_count": 61,
   "id": "6a014019-d3fa-421d-863e-66e52b7bfefa",
   "metadata": {},
   "outputs": [
    {
     "name": "stdout",
     "output_type": "stream",
     "text": [
      "\n",
      "1. Plotting for term\n"
     ]
    },
    {
     "data": {
      "image/png": "[encoded data removed]",
      "text/plain": [
       "<Figure size 640x480 with 1 Axes>"
      ]
     },
     "metadata": {},
     "output_type": "display_data"
    },
    {
     "name": "stdout",
     "output_type": "stream",
     "text": [
      " Note : For data available in \"loan.csv\" dataset, the histroical loans are mostly for term of  36 months\n",
      "\n",
      "2. Plotting for grade\n"
     ]
    },
    {
     "data": {
      "image/png": "[encoded data removed]",
      "text/plain": [
       "<Figure size 640x480 with 1 Axes>"
      ]
     },
     "metadata": {},
     "output_type": "display_data"
    },
    {
     "name": "stdout",
     "output_type": "stream",
     "text": [
      " Note : For data available in \"loan.csv\" dataset, the histroical loans are mostly for grade of B\n",
      "\n",
      "3. Plotting for sub_grade\n"
     ]
    },
    {
     "data": {
      "image/png": "[encoded data removed]",
      "text/plain": [
       "<Figure size 640x480 with 1 Axes>"
      ]
     },
     "metadata": {},
     "output_type": "display_data"
    },
    {
     "name": "stdout",
     "output_type": "stream",
     "text": [
      " Note : For data available in \"loan.csv\" dataset, the histroical loans are mostly for sub_grade of A4\n",
      "\n",
      "4. Plotting for emp_length\n"
     ]
    },
    {
     "data": {
      "image/png": "[encoded data removed]",
      "text/plain": [
       "<Figure size 640x480 with 1 Axes>"
      ]
     },
     "metadata": {},
     "output_type": "display_data"
    },
    {
     "name": "stdout",
     "output_type": "stream",
     "text": [
      " Note : For data available in \"loan.csv\" dataset, the histroical loans are mostly for emp_length of 10 \n",
      "\n",
      "5. Plotting for home_ownership\n"
     ]
    },
    {
     "data": {
      "image/png": "[encoded data removed]",
      "text/plain": [
       "<Figure size 640x480 with 1 Axes>"
      ]
     },
     "metadata": {},
     "output_type": "display_data"
    },
    {
     "name": "stdout",
     "output_type": "stream",
     "text": [
      " Note : For data available in \"loan.csv\" dataset, the histroical loans are mostly for home_ownership of RENT\n",
      "\n",
      "6. Plotting for verification_status\n"
     ]
    },
    {
     "data": {
      "image/png": "[encoded data removed]",
      "text/plain": [
       "<Figure size 640x480 with 1 Axes>"
      ]
     },
     "metadata": {},
     "output_type": "display_data"
    },
    {
     "name": "stdout",
     "output_type": "stream",
     "text": [
      " Note : For data available in \"loan.csv\" dataset, the histroical loans are mostly for verification_status of Not Verified\n",
      "\n",
      "7. Plotting for loan_status\n"
     ]
    },
    {
     "data": {
      "image/png": "[encoded data removed]",
      "text/plain": [
       "<Figure size 640x480 with 1 Axes>"
      ]
     },
     "metadata": {},
     "output_type": "display_data"
    },
    {
     "name": "stdout",
     "output_type": "stream",
     "text": [
      " Note : For data available in \"loan.csv\" dataset, the histroical loans are mostly for loan_status of Fully Paid\n",
      "\n",
      "8. Plotting for purpose\n"
     ]
    },
    {
     "data": {
      "image/png": "[encoded data removed]",
      "text/plain": [
       "<Figure size 640x480 with 1 Axes>"
      ]
     },
     "metadata": {},
     "output_type": "display_data"
    },
    {
     "name": "stdout",
     "output_type": "stream",
     "text": [
      " Note : For data available in \"loan.csv\" dataset, the histroical loans are mostly for purpose of debt_consolidation\n"
     ]
    }
   ],
   "source": [
    "category_columns = df_clean.select_dtypes(include=['category']).columns.tolist()\n",
    "for index, column in enumerate(category_columns):\n",
    "    countplots(df_clean, index, column)"
   ]
  },
  {
   "cell_type": "markdown",
   "id": "d4ed0692-e565-431e-80a3-30047b67a8b7",
   "metadata": {},
   "source": [
    "# Segemented Exploration"
   ]
  },
  {
   "cell_type": "code",
   "execution_count": null,
   "id": "97f09d65-243c-4bbc-b05b-65dfe234cf6f",
   "metadata": {},
   "outputs": [],
   "source": []
  },
  {
   "cell_type": "code",
   "execution_count": null,
   "id": "7adb93f6-3dac-4157-94a2-a281f064f11c",
   "metadata": {},
   "outputs": [],
   "source": []
  },
  {
   "cell_type": "markdown",
   "id": "19a8bce7-8e1e-4a65-a684-d66672bb6ba6",
   "metadata": {},
   "source": [
    "# Bivariate Exploration"
   ]
  },
  {
   "cell_type": "code",
   "execution_count": null,
   "id": "ea00e777-6780-4337-aad5-236a210016ed",
   "metadata": {},
   "outputs": [],
   "source": []
  },
  {
   "cell_type": "code",
   "execution_count": null,
   "id": "1fb12aee-6f54-4a1d-89b3-5a8217e75674",
   "metadata": {},
   "outputs": [],
   "source": []
  }
 ],
 "metadata": {
  "kernelspec": {
   "display_name": "Python 3 (ipykernel)",
   "language": "python",
   "name": "python3"
  },
  "language_info": {
   "codemirror_mode": {
    "name": "ipython",
    "version": 3
   },
   "file_extension": ".py",
   "mimetype": "text/x-python",
   "name": "python",
   "nbconvert_exporter": "python",
   "pygments_lexer": "ipython3",
   "version": "3.10.14"
  }
 },
 "nbformat": 4,
 "nbformat_minor": 5
}
